{
  "nbformat": 4,
  "nbformat_minor": 0,
  "metadata": {
    "colab": {
      "name": "pathway_links.ipynb",
      "provenance": [],
      "collapsed_sections": [],
      "authorship_tag": "ABX9TyPnSdfrxw2vmoBNIcQgui/C"
    },
    "kernelspec": {
      "name": "python3",
      "display_name": "Python 3"
    },
    "language_info": {
      "name": "python"
    }
  },
  "cells": [
    {
      "cell_type": "code",
      "metadata": {
        "colab": {
          "base_uri": "https://localhost:8080/"
        },
        "id": "SWni1t-HdF48",
        "outputId": "88a48089-a190-408b-8bce-fff177e3db0a"
      },
      "source": [
        "# Connect notebook to Google Drive\n",
        "from google.colab import drive\n",
        "drive.mount('/content/drive', force_remount=True)"
      ],
      "execution_count": null,
      "outputs": [
        {
          "output_type": "stream",
          "text": [
            "Mounted at /content/drive\n"
          ],
          "name": "stdout"
        }
      ]
    },
    {
      "cell_type": "code",
      "metadata": {
        "colab": {
          "base_uri": "https://localhost:8080/"
        },
        "id": "FmzRTWmVdy1h",
        "outputId": "e4e0432a-e32a-443d-d1b8-8c210b8871bb"
      },
      "source": [
        "# Navigate to the shared drive folder\n",
        "%cd /content/drive/'My Drive'/'Cardiovascular Knowledge Graph'\n",
        "!pwd\n",
        "!ls"
      ],
      "execution_count": null,
      "outputs": [
        {
          "output_type": "stream",
          "text": [
            "/content/drive/My Drive/Cardiovascular Knowledge Graph\n",
            "/content/drive/My Drive/Cardiovascular Knowledge Graph\n",
            "cardiac_conduction.ipynb  muscle_contraction_graph.ipynb  pathway_links.ipynb\n",
            "data\t\t\t  muscle_contraction.ipynb\n",
            "filter_organism.ipynb\t  output\n"
          ],
          "name": "stdout"
        }
      ]
    },
    {
      "cell_type": "code",
      "metadata": {
        "colab": {
          "base_uri": "https://localhost:8080/"
        },
        "id": "T8ghLO2Jd3eF",
        "outputId": "c34e8daa-dfd5-4987-950d-f4ce01afd35e"
      },
      "source": [
        "%cd output"
      ],
      "execution_count": null,
      "outputs": [
        {
          "output_type": "stream",
          "text": [
            "/content/drive/My Drive/Cardiovascular Knowledge Graph/output\n"
          ],
          "name": "stdout"
        }
      ]
    },
    {
      "cell_type": "code",
      "metadata": {
        "colab": {
          "base_uri": "https://localhost:8080/"
        },
        "id": "XIP0MCV7d4vR",
        "outputId": "1f8b347a-721b-41bf-cb61-cec4bb4bf966"
      },
      "source": [
        "!ls"
      ],
      "execution_count": null,
      "outputs": [
        {
          "output_type": "stream",
          "text": [
            "cardiac_cond_name_filtered.csv\t      graphs\n",
            "cardiac_conduction_all_organisms.csv  muscle_contraction_filtered.csv\n",
            "cardiac_conduction_filtered.csv       muscle_contraction_filtered.json\n",
            "cardiac_conduction_filtered.json      protein_name_cardiac_conduction.csv\n",
            "cardiac_conduction.json\n"
          ],
          "name": "stdout"
        }
      ]
    },
    {
      "cell_type": "code",
      "metadata": {
        "colab": {
          "base_uri": "https://localhost:8080/"
        },
        "id": "R8FVZdr-yc6i",
        "outputId": "16163b75-b79c-4293-d6c0-b5dbb15d3fdd"
      },
      "source": [
        "import pandas as pd\n",
        "import networkx as nx\n",
        "import matplotlib.pyplot as plt\n",
        "import numpy as np\n",
        "from collections import Mapping"
      ],
      "execution_count": null,
      "outputs": [
        {
          "output_type": "stream",
          "text": [
            "/usr/local/lib/python3.7/dist-packages/ipykernel_launcher.py:5: DeprecationWarning: Using or importing the ABCs from 'collections' instead of from 'collections.abc' is deprecated since Python 3.3,and in 3.9 it will stop working\n",
            "  \"\"\"\n"
          ],
          "name": "stderr"
        }
      ]
    },
    {
      "cell_type": "code",
      "metadata": {
        "id": "ERUDD5IRyeSP"
      },
      "source": [
        "def sort_contraction(full_table, cardiac_table):\n",
        "  \"\"\"\n",
        "  sorts as follows:\n",
        "  {'Muscle Contraction' : {'Cardiac Conduction' : {p1 : [<->]}}, {'Not CC' : {p1 : [<->]}}}\n",
        "  \"\"\"\n",
        "  full_proteins = list(full_table['Protein ID'])\n",
        "  cardiac_proteins = list(cardiac_table['Protein ID'])\n",
        "  overlap_proteins = list(set(full_proteins) - set(cardiac_proteins)) #proteins in full_pathway but not in cardiac_pathway\n",
        "\n",
        "  d = {'Muscle Contraction' : {'Cardiac Conduction' : {},\n",
        "       'Not CC' : overlap_proteins}}\n",
        "  \n",
        "  for k in list(set(cardiac_table['Reactome Pathway ID'])):\n",
        "    search_val = cardiac_table[cardiac_table['Reactome Pathway ID'] == k]\n",
        "    d['Muscle Contraction']['Cardiac Conduction'][k] = list(search_val['Protein ID'])\n",
        "  \n",
        "  return d\n",
        "\n",
        "def sort_cardiac_pathway_protein(cardiac_table):\n",
        "  \"\"\"\n",
        "  sorts cardiac conduction proteins as follows:\n",
        "  {'Pathway ID' : [protein IDs in pathway]}\n",
        "  \"\"\"\n",
        "  d = {}\n",
        "  \n",
        "  for k in range(len(cardiac_table['Protein ID'])):\n",
        "    pathway_id = list(cardiac_table['Reactome Pathway ID'])[k]\n",
        "    protein_id = list(cardiac_table['Protein ID'])[k]\n",
        "    if pathway_id in d.keys():\n",
        "      d[pathway_id].append(protein_id)\n",
        "    else:\n",
        "      d[pathway_id] = [protein_id]\n",
        "\n",
        "  return d\n",
        "\n",
        "def sort_cardiac_pathway_name(cardiac_table):\n",
        "    \"\"\"\n",
        "    {pathway ID : pathway name}\n",
        "    \"\"\"\n",
        "    d = {}\n",
        "\n",
        "    for k in range(len(cardiac_table['Protein ID'])):\n",
        "        pathway_id = list(cardiac_table['Reactome Pathway ID'])[k]\n",
        "        name = list(cardiac_table['Pathway Name'])[k]\n",
        "        \n",
        "        d[pathway_id] = name\n",
        "    \n",
        "    return d\n",
        "\n",
        "def combine_sorted_data(cardiac_table):\n",
        "    \"\"\"\n",
        "    {Pathway ID : ([proteins], name)}\n",
        "    \"\"\"\n",
        "    d = {}\n",
        "    pathway_name = sort_cardiac_pathway_name(cardiac_table)\n",
        "    pathway_protein = sort_cardiac_pathway_protein(cardiac_table)\n",
        "\n",
        "    for pathway in pathway_name.keys():\n",
        "        d[pathway] = (pathway_protein[pathway], pathway_name[pathway])\n",
        "    \n",
        "    return d"
      ],
      "execution_count": null,
      "outputs": []
    },
    {
      "cell_type": "code",
      "metadata": {
        "colab": {
          "base_uri": "https://localhost:8080/"
        },
        "id": "aysh_2dSJ3ws",
        "outputId": "fb861bc0-cb40-43d1-85f0-f6a167650eca"
      },
      "source": [
        "!ls"
      ],
      "execution_count": null,
      "outputs": [
        {
          "output_type": "stream",
          "text": [
            "sample_data\n"
          ],
          "name": "stdout"
        }
      ]
    },
    {
      "cell_type": "code",
      "metadata": {
        "colab": {
          "base_uri": "https://localhost:8080/",
          "height": 419
        },
        "id": "cNWRTK0wJ0Us",
        "outputId": "28e3eff4-bbd0-4c4f-9273-78547a746d06"
      },
      "source": [
        "cardiac_table = pd.read_csv('cardiac_cond_name_filtered.csv')\n",
        "cardiac_table"
      ],
      "execution_count": null,
      "outputs": [
        {
          "output_type": "execute_result",
          "data": {
            "text/html": [
              "<div>\n",
              "<style scoped>\n",
              "    .dataframe tbody tr th:only-of-type {\n",
              "        vertical-align: middle;\n",
              "    }\n",
              "\n",
              "    .dataframe tbody tr th {\n",
              "        vertical-align: top;\n",
              "    }\n",
              "\n",
              "    .dataframe thead th {\n",
              "        text-align: right;\n",
              "    }\n",
              "</style>\n",
              "<table border=\"1\" class=\"dataframe\">\n",
              "  <thead>\n",
              "    <tr style=\"text-align: right;\">\n",
              "      <th></th>\n",
              "      <th>Unnamed: 0</th>\n",
              "      <th>Protein ID</th>\n",
              "      <th>Reactome Pathway ID</th>\n",
              "      <th>Pathway Name</th>\n",
              "    </tr>\n",
              "  </thead>\n",
              "  <tbody>\n",
              "    <tr>\n",
              "      <th>0</th>\n",
              "      <td>0</td>\n",
              "      <td>A2AGL3</td>\n",
              "      <td>R-MMU-5578775</td>\n",
              "      <td>Ion homeostasis</td>\n",
              "    </tr>\n",
              "    <tr>\n",
              "      <th>1</th>\n",
              "      <td>1</td>\n",
              "      <td>E9PZQ0</td>\n",
              "      <td>R-MMU-5578775</td>\n",
              "      <td>Ion homeostasis</td>\n",
              "    </tr>\n",
              "    <tr>\n",
              "      <th>2</th>\n",
              "      <td>2</td>\n",
              "      <td>E9Q401</td>\n",
              "      <td>R-MMU-5578775</td>\n",
              "      <td>Ion homeostasis</td>\n",
              "    </tr>\n",
              "    <tr>\n",
              "      <th>3</th>\n",
              "      <td>3</td>\n",
              "      <td>E9Q9K5</td>\n",
              "      <td>R-MMU-5578775</td>\n",
              "      <td>Ion homeostasis</td>\n",
              "    </tr>\n",
              "    <tr>\n",
              "      <th>4</th>\n",
              "      <td>4</td>\n",
              "      <td>G5E829</td>\n",
              "      <td>R-MMU-5578775</td>\n",
              "      <td>Ion homeostasis</td>\n",
              "    </tr>\n",
              "    <tr>\n",
              "      <th>...</th>\n",
              "      <td>...</td>\n",
              "      <td>...</td>\n",
              "      <td>...</td>\n",
              "      <td>...</td>\n",
              "    </tr>\n",
              "    <tr>\n",
              "      <th>514</th>\n",
              "      <td>514</td>\n",
              "      <td>Q9NY47</td>\n",
              "      <td>R-HSA-5576893</td>\n",
              "      <td>Phase 2 - plateau phase</td>\n",
              "    </tr>\n",
              "    <tr>\n",
              "      <th>515</th>\n",
              "      <td>515</td>\n",
              "      <td>Q9UBN1</td>\n",
              "      <td>R-HSA-5576893</td>\n",
              "      <td>Phase 2 - plateau phase</td>\n",
              "    </tr>\n",
              "    <tr>\n",
              "      <th>516</th>\n",
              "      <td>516</td>\n",
              "      <td>Q9UJ90</td>\n",
              "      <td>R-HSA-5576893</td>\n",
              "      <td>Phase 2 - plateau phase</td>\n",
              "    </tr>\n",
              "    <tr>\n",
              "      <th>517</th>\n",
              "      <td>517</td>\n",
              "      <td>Q9Y6H6</td>\n",
              "      <td>R-HSA-5576893</td>\n",
              "      <td>Phase 2 - plateau phase</td>\n",
              "    </tr>\n",
              "    <tr>\n",
              "      <th>518</th>\n",
              "      <td>518</td>\n",
              "      <td>Q9Y6J6</td>\n",
              "      <td>R-HSA-5576893</td>\n",
              "      <td>Phase 2 - plateau phase</td>\n",
              "    </tr>\n",
              "  </tbody>\n",
              "</table>\n",
              "<p>519 rows × 4 columns</p>\n",
              "</div>"
            ],
            "text/plain": [
              "     Unnamed: 0 Protein ID Reactome Pathway ID             Pathway Name\n",
              "0             0     A2AGL3       R-MMU-5578775          Ion homeostasis\n",
              "1             1     E9PZQ0       R-MMU-5578775          Ion homeostasis\n",
              "2             2     E9Q401       R-MMU-5578775          Ion homeostasis\n",
              "3             3     E9Q9K5       R-MMU-5578775          Ion homeostasis\n",
              "4             4     G5E829       R-MMU-5578775          Ion homeostasis\n",
              "..          ...        ...                 ...                      ...\n",
              "514         514     Q9NY47       R-HSA-5576893  Phase 2 - plateau phase\n",
              "515         515     Q9UBN1       R-HSA-5576893  Phase 2 - plateau phase\n",
              "516         516     Q9UJ90       R-HSA-5576893  Phase 2 - plateau phase\n",
              "517         517     Q9Y6H6       R-HSA-5576893  Phase 2 - plateau phase\n",
              "518         518     Q9Y6J6       R-HSA-5576893  Phase 2 - plateau phase\n",
              "\n",
              "[519 rows x 4 columns]"
            ]
          },
          "metadata": {
            "tags": []
          },
          "execution_count": 12
        }
      ]
    },
    {
      "cell_type": "code",
      "metadata": {
        "id": "rZj1FZaIKKR4"
      },
      "source": [
        "combined_sorted = combine_sorted_data(cardiac_table)\n",
        "combined_sorted"
      ],
      "execution_count": null,
      "outputs": []
    },
    {
      "cell_type": "markdown",
      "metadata": {
        "id": "90YwYBdWM6I0"
      },
      "source": [
        "## **Using PyVis**"
      ]
    },
    {
      "cell_type": "code",
      "metadata": {
        "id": "gAam3QabM8Kd"
      },
      "source": [
        "!pip install pyvis"
      ],
      "execution_count": null,
      "outputs": []
    },
    {
      "cell_type": "code",
      "metadata": {
        "id": "MjCxJRrZM-sd"
      },
      "source": [
        "from pyvis.network import Network\n",
        "from IPython.core.display import display, HTML"
      ],
      "execution_count": null,
      "outputs": []
    },
    {
      "cell_type": "code",
      "metadata": {
        "id": "-lwCTVhKd6Mx"
      },
      "source": [
        "def cardiac_conduction_linked(cardiac_table):\n",
        "    \"\"\"\n",
        "    utilizes pyvis to create cardiac conduction graph\n",
        "    \"\"\"\n",
        "    d = combine_sorted_data(cardiac_table)\n",
        "    g = Network(height = 750, width = 1500)\n",
        "\n",
        "    g.add_nodes(d.keys())\n",
        "\n",
        "    for k, v in d.items():\n",
        "        g.add_nodes(v[0])\n",
        "\n",
        "    for k, v in d.items():\n",
        "        for value in v[0]:\n",
        "            title_display = \"from \" + value + \" to \" + k\n",
        "            g.add_edge(k, value, title = title_display)\n",
        "\n",
        "    for i in range(len(cardiac_table['Reactome Pathway ID'])):\n",
        "        name_ref = cardiac_table['Pathway Name'].values[i]\n",
        "        id_ref = cardiac_table['Reactome Pathway ID'].values[i]\n",
        "\n",
        "        for j in range(len(cardiac_table['Reactome Pathway ID'])):\n",
        "            name_compare = cardiac_table['Pathway Name'].values[j]\n",
        "            id_compare = cardiac_table['Reactome Pathway ID'].values[j]\n",
        "\n",
        "            if name_ref == name_compare:\n",
        "                title_display = str(id_ref) + \" is connected to \" + str(id_compare)\n",
        "                g.add_edge(id_ref, id_compare, title = title_display)\n",
        "        \n",
        "    t = \"cardiac_conduction_pathway_link.html\"\n",
        "    g.show(t)\n",
        "    display(HTML(t))\n",
        "\n",
        "    #return g.nodes\n"
      ],
      "execution_count": null,
      "outputs": []
    },
    {
      "cell_type": "code",
      "metadata": {
        "colab": {
          "base_uri": "https://localhost:8080/",
          "height": 371
        },
        "id": "QU5wFPkcMzBG",
        "outputId": "985ad174-34f9-44c5-faed-aa32db6a7fb2"
      },
      "source": [
        "cardiac_conduction_linked(cardiac_table)"
      ],
      "execution_count": null,
      "outputs": [
        {
          "output_type": "display_data",
          "data": {
            "text/html": [
              "<html>\n",
              "<head>\n",
              "<link rel=\"stylesheet\" href=\"https://cdnjs.cloudflare.com/ajax/libs/vis/4.16.1/vis.css\" type=\"text/css\" />\n",
              "<script type=\"text/javascript\" src=\"https://cdnjs.cloudflare.com/ajax/libs/vis/4.16.1/vis-network.min.js\"> </script>\n",
              "<center>\n",
              "<h1></h1>\n",
              "</center>\n",
              "\n",
              "<!-- <link rel=\"stylesheet\" href=\"../node_modules/vis/dist/vis.min.css\" type=\"text/css\" />\n",
              "<script type=\"text/javascript\" src=\"../node_modules/vis/dist/vis.js\"> </script>-->\n",
              "\n",
              "<style type=\"text/css\">\n",
              "\n",
              "        #mynetwork {\n",
              "            width: 1500;\n",
              "            height: 750;\n",
              "            background-color: #ffffff;\n",
              "            border: 1px solid lightgray;\n",
              "            position: relative;\n",
              "            float: left;\n",
              "        }\n",
              "\n",
              "        \n",
              "        #loadingBar {\n",
              "            position:absolute;\n",
              "            top:0px;\n",
              "            left:0px;\n",
              "            width: 1500;\n",
              "            height: 750;\n",
              "            background-color:rgba(200,200,200,0.8);\n",
              "            -webkit-transition: all 0.5s ease;\n",
              "            -moz-transition: all 0.5s ease;\n",
              "            -ms-transition: all 0.5s ease;\n",
              "            -o-transition: all 0.5s ease;\n",
              "            transition: all 0.5s ease;\n",
              "            opacity:1;\n",
              "        }\n",
              "\n",
              "        #bar {\n",
              "            position:absolute;\n",
              "            top:0px;\n",
              "            left:0px;\n",
              "            width:20px;\n",
              "            height:20px;\n",
              "            margin:auto auto auto auto;\n",
              "            border-radius:11px;\n",
              "            border:2px solid rgba(30,30,30,0.05);\n",
              "            background: rgb(0, 173, 246); /* Old browsers */\n",
              "            box-shadow: 2px 0px 4px rgba(0,0,0,0.4);\n",
              "        }\n",
              "\n",
              "        #border {\n",
              "            position:absolute;\n",
              "            top:10px;\n",
              "            left:10px;\n",
              "            width:500px;\n",
              "            height:23px;\n",
              "            margin:auto auto auto auto;\n",
              "            box-shadow: 0px 0px 4px rgba(0,0,0,0.2);\n",
              "            border-radius:10px;\n",
              "        }\n",
              "\n",
              "        #text {\n",
              "            position:absolute;\n",
              "            top:8px;\n",
              "            left:530px;\n",
              "            width:30px;\n",
              "            height:50px;\n",
              "            margin:auto auto auto auto;\n",
              "            font-size:22px;\n",
              "            color: #000000;\n",
              "        }\n",
              "\n",
              "        div.outerBorder {\n",
              "            position:relative;\n",
              "            top:400px;\n",
              "            width:600px;\n",
              "            height:44px;\n",
              "            margin:auto auto auto auto;\n",
              "            border:8px solid rgba(0,0,0,0.1);\n",
              "            background: rgb(252,252,252); /* Old browsers */\n",
              "            background: -moz-linear-gradient(top,  rgba(252,252,252,1) 0%, rgba(237,237,237,1) 100%); /* FF3.6+ */\n",
              "            background: -webkit-gradient(linear, left top, left bottom, color-stop(0%,rgba(252,252,252,1)), color-stop(100%,rgba(237,237,237,1))); /* Chrome,Safari4+ */\n",
              "            background: -webkit-linear-gradient(top,  rgba(252,252,252,1) 0%,rgba(237,237,237,1) 100%); /* Chrome10+,Safari5.1+ */\n",
              "            background: -o-linear-gradient(top,  rgba(252,252,252,1) 0%,rgba(237,237,237,1) 100%); /* Opera 11.10+ */\n",
              "            background: -ms-linear-gradient(top,  rgba(252,252,252,1) 0%,rgba(237,237,237,1) 100%); /* IE10+ */\n",
              "            background: linear-gradient(to bottom,  rgba(252,252,252,1) 0%,rgba(237,237,237,1) 100%); /* W3C */\n",
              "            filter: progid:DXImageTransform.Microsoft.gradient( startColorstr='#fcfcfc', endColorstr='#ededed',GradientType=0 ); /* IE6-9 */\n",
              "            border-radius:72px;\n",
              "            box-shadow: 0px 0px 10px rgba(0,0,0,0.2);\n",
              "        }\n",
              "        \n",
              "\n",
              "        \n",
              "\n",
              "        \n",
              "</style>\n",
              "\n",
              "</head>\n",
              "\n",
              "<body>\n",
              "<div id = \"mynetwork\"></div>\n",
              "\n",
              "<div id=\"loadingBar\">\n",
              "    <div class=\"outerBorder\">\n",
              "        <div id=\"text\">0%</div>\n",
              "        <div id=\"border\">\n",
              "            <div id=\"bar\"></div>\n",
              "        </div>\n",
              "    </div>\n",
              "</div>\n",
              "\n",
              "\n",
              "<script type=\"text/javascript\">\n",
              "\n",
              "    // initialize global variables.\n",
              "    var edges;\n",
              "    var nodes;\n",
              "    var network; \n",
              "    var container;\n",
              "    var options, data;\n",
              "\n",
              "    \n",
              "    // This method is responsible for drawing the graph, returns the drawn network\n",
              "    function drawGraph() {\n",
              "        var container = document.getElementById('mynetwork');\n",
              "        \n",
              "        \n",
              "\n",
              "        // parsing and collecting nodes and edges from the python\n",
              "        nodes = new vis.DataSet([{\"id\": \"R-MMU-5578775\", \"label\": \"R-MMU-5578775\", \"shape\": \"dot\"}, {\"id\": \"R-SSC-5576893\", \"label\": \"R-SSC-5576893\", \"shape\": \"dot\"}, {\"id\": \"R-HSA-5578768\", \"label\": \"R-HSA-5578768\", \"shape\": \"dot\"}, {\"id\": \"R-MMU-5578768\", \"label\": \"R-MMU-5578768\", \"shape\": \"dot\"}, {\"id\": \"R-MMU-5576894\", \"label\": \"R-MMU-5576894\", \"shape\": \"dot\"}, {\"id\": \"R-SSC-5576892\", \"label\": \"R-SSC-5576892\", \"shape\": \"dot\"}, {\"id\": \"R-RNO-5576894\", \"label\": \"R-RNO-5576894\", \"shape\": \"dot\"}, {\"id\": \"R-RNO-5578775\", \"label\": \"R-RNO-5578775\", \"shape\": \"dot\"}, {\"id\": \"R-RNO-5578768\", \"label\": \"R-RNO-5578768\", \"shape\": \"dot\"}, {\"id\": \"R-MMU-5576890\", \"label\": \"R-MMU-5576890\", \"shape\": \"dot\"}, {\"id\": \"R-RNO-5576886\", \"label\": \"R-RNO-5576886\", \"shape\": \"dot\"}, {\"id\": \"R-HSA-5578775\", \"label\": \"R-HSA-5578775\", \"shape\": \"dot\"}, {\"id\": \"R-HSA-5576894\", \"label\": \"R-HSA-5576894\", \"shape\": \"dot\"}, {\"id\": \"R-HSA-5576886\", \"label\": \"R-HSA-5576886\", \"shape\": \"dot\"}, {\"id\": \"R-SSC-5576894\", \"label\": \"R-SSC-5576894\", \"shape\": \"dot\"}, {\"id\": \"R-SSC-5578768\", \"label\": \"R-SSC-5578768\", \"shape\": \"dot\"}, {\"id\": \"R-MMU-5576893\", \"label\": \"R-MMU-5576893\", \"shape\": \"dot\"}, {\"id\": \"R-HSA-5576890\", \"label\": \"R-HSA-5576890\", \"shape\": \"dot\"}, {\"id\": \"R-MMU-5576892\", \"label\": \"R-MMU-5576892\", \"shape\": \"dot\"}, {\"id\": \"R-RNO-5576890\", \"label\": \"R-RNO-5576890\", \"shape\": \"dot\"}, {\"id\": \"R-SSC-5576886\", \"label\": \"R-SSC-5576886\", \"shape\": \"dot\"}, {\"id\": \"R-MMU-5576886\", \"label\": \"R-MMU-5576886\", \"shape\": \"dot\"}, {\"id\": \"R-RNO-5576892\", \"label\": \"R-RNO-5576892\", \"shape\": \"dot\"}, {\"id\": \"R-HSA-5576892\", \"label\": \"R-HSA-5576892\", \"shape\": \"dot\"}, {\"id\": \"R-RNO-5576893\", \"label\": \"R-RNO-5576893\", \"shape\": \"dot\"}, {\"id\": \"R-SSC-5578775\", \"label\": \"R-SSC-5578775\", \"shape\": \"dot\"}, {\"id\": \"R-HSA-5576893\", \"label\": \"R-HSA-5576893\", \"shape\": \"dot\"}, {\"id\": \"A2AGL3\", \"label\": \"A2AGL3\", \"shape\": \"dot\"}, {\"id\": \"E9PZQ0\", \"label\": \"E9PZQ0\", \"shape\": \"dot\"}, {\"id\": \"E9Q401\", \"label\": \"E9Q401\", \"shape\": \"dot\"}, {\"id\": \"E9Q9K5\", \"label\": \"E9Q9K5\", \"shape\": \"dot\"}, {\"id\": \"G5E829\", \"label\": \"G5E829\", \"shape\": \"dot\"}, {\"id\": \"O09161\", \"label\": \"O09161\", \"shape\": \"dot\"}, {\"id\": \"O09165\", \"label\": \"O09165\", \"shape\": \"dot\"}, {\"id\": \"O55143\", \"label\": \"O55143\", \"shape\": \"dot\"}, {\"id\": \"P05132\", \"label\": \"P05132\", \"shape\": \"dot\"}, {\"id\": \"P0DP26\", \"label\": \"P0DP26\", \"shape\": \"dot\"}, {\"id\": \"P11798\", \"label\": \"P11798\", \"shape\": \"dot\"}, {\"id\": \"P11881\", \"label\": \"P11881\", \"shape\": \"dot\"}, {\"id\": \"P14094\", \"label\": \"P14094\", \"shape\": \"dot\"}, {\"id\": \"P14231\", \"label\": \"P14231\", \"shape\": \"dot\"}, {\"id\": \"P28652\", \"label\": \"P28652\", \"shape\": \"dot\"}, {\"id\": \"P48787\", \"label\": \"P48787\", \"shape\": \"dot\"}, {\"id\": \"P54265\", \"label\": \"P54265\", \"shape\": \"dot\"}, {\"id\": \"P59648\", \"label\": \"P59648\", \"shape\": \"dot\"}, {\"id\": \"P61014\", \"label\": \"P61014\", \"shape\": \"dot\"}, {\"id\": \"P70170\", \"label\": \"P70170\", \"shape\": \"dot\"}, {\"id\": \"P70227\", \"label\": \"P70227\", \"shape\": \"dot\"}, {\"id\": \"P70302\", \"label\": \"P70302\", \"shape\": \"dot\"}, {\"id\": \"P70414\", \"label\": \"P70414\", \"shape\": \"dot\"}, {\"id\": \"P97370\", \"label\": \"P97370\", \"shape\": \"dot\"}, {\"id\": \"Q04646\", \"label\": \"Q04646\", \"shape\": \"dot\"}, {\"id\": \"Q0VF55\", \"label\": \"Q0VF55\", \"shape\": \"dot\"}, {\"id\": \"Q61056\", \"label\": \"Q61056\", \"shape\": \"dot\"}, {\"id\": \"Q61743\", \"label\": \"Q61743\", \"shape\": \"dot\"}, {\"id\": \"Q61835\", \"label\": \"Q61835\", \"shape\": \"dot\"}, {\"id\": \"Q64518\", \"label\": \"Q64518\", \"shape\": \"dot\"}, {\"id\": \"Q6P069\", \"label\": \"Q6P069\", \"shape\": \"dot\"}, {\"id\": \"Q6PHZ2\", \"label\": \"Q6PHZ2\", \"shape\": \"dot\"}, {\"id\": \"Q6PIC6\", \"label\": \"Q6PIC6\", \"shape\": \"dot\"}, {\"id\": \"Q6PIE5\", \"label\": \"Q6PIE5\", \"shape\": \"dot\"}, {\"id\": \"Q6Q477\", \"label\": \"Q6Q477\", \"shape\": \"dot\"}, {\"id\": \"Q80SW1\", \"label\": \"Q80SW1\", \"shape\": \"dot\"}, {\"id\": \"Q8BSY0\", \"label\": \"Q8BSY0\", \"shape\": \"dot\"}, {\"id\": \"Q8K596\", \"label\": \"Q8K596\", \"shape\": \"dot\"}, {\"id\": \"Q8R429\", \"label\": \"Q8R429\", \"shape\": \"dot\"}, {\"id\": \"Q8VDN2\", \"label\": \"Q8VDN2\", \"shape\": \"dot\"}, {\"id\": \"Q923T9\", \"label\": \"Q923T9\", \"shape\": \"dot\"}, {\"id\": \"Q9D164\", \"label\": \"Q9D164\", \"shape\": \"dot\"}, {\"id\": \"Q9D2W0\", \"label\": \"Q9D2W0\", \"shape\": \"dot\"}, {\"id\": \"Q9R0K7\", \"label\": \"Q9R0K7\", \"shape\": \"dot\"}, {\"id\": \"Q9WV27\", \"label\": \"Q9WV27\", \"shape\": \"dot\"}, {\"id\": \"Q9Z0J4\", \"label\": \"Q9Z0J4\", \"shape\": \"dot\"}, {\"id\": \"Q9Z239\", \"label\": \"Q9Z239\", \"shape\": \"dot\"}, {\"id\": \"Q9Z2I2\", \"label\": \"Q9Z2I2\", \"shape\": \"dot\"}, {\"id\": \"Q9Z329\", \"label\": \"Q9Z329\", \"shape\": \"dot\"}, {\"id\": \"S4R2P9\", \"label\": \"S4R2P9\", \"shape\": \"dot\"}, {\"id\": \"A0A286ZJB7\", \"label\": \"A0A286ZJB7\", \"shape\": \"dot\"}, {\"id\": \"A0A286ZNE8\", \"label\": \"A0A286ZNE8\", \"shape\": \"dot\"}, {\"id\": \"A0A287AB87\", \"label\": \"A0A287AB87\", \"shape\": \"dot\"}, {\"id\": \"A0A287ANL1\", \"label\": \"A0A287ANL1\", \"shape\": \"dot\"}, {\"id\": \"A0A287B082\", \"label\": \"A0A287B082\", \"shape\": \"dot\"}, {\"id\": \"F1RNI9\", \"label\": \"F1RNI9\", \"shape\": \"dot\"}, {\"id\": \"F1RNJ2\", \"label\": \"F1RNJ2\", \"shape\": \"dot\"}, {\"id\": \"F2Z4Y2\", \"label\": \"F2Z4Y2\", \"shape\": \"dot\"}, {\"id\": \"P01160\", \"label\": \"P01160\", \"shape\": \"dot\"}, {\"id\": \"P16066\", \"label\": \"P16066\", \"shape\": \"dot\"}, {\"id\": \"P20594\", \"label\": \"P20594\", \"shape\": \"dot\"}, {\"id\": \"P23582\", \"label\": \"P23582\", \"shape\": \"dot\"}, {\"id\": \"P43694\", \"label\": \"P43694\", \"shape\": \"dot\"}, {\"id\": \"P52952\", \"label\": \"P52952\", \"shape\": \"dot\"}, {\"id\": \"Q86Z02\", \"label\": \"Q86Z02\", \"shape\": \"dot\"}, {\"id\": \"Q92831\", \"label\": \"Q92831\", \"shape\": \"dot\"}, {\"id\": \"Q99593\", \"label\": \"Q99593\", \"shape\": \"dot\"}, {\"id\": \"Q9GZV5\", \"label\": \"Q9GZV5\", \"shape\": \"dot\"}, {\"id\": \"Q9H2X6\", \"label\": \"Q9H2X6\", \"shape\": \"dot\"}, {\"id\": \"Q9Y5Q5\", \"label\": \"Q9Y5Q5\", \"shape\": \"dot\"}, {\"id\": \"P05125\", \"label\": \"P05125\", \"shape\": \"dot\"}, {\"id\": \"P18293\", \"label\": \"P18293\", \"shape\": \"dot\"}, {\"id\": \"Q61839\", \"label\": \"Q61839\", \"shape\": \"dot\"}, {\"id\": \"Q6VVW5\", \"label\": \"Q6VVW5\", \"shape\": \"dot\"}, {\"id\": \"Q9Z319\", \"label\": \"Q9Z319\", \"shape\": \"dot\"}, {\"id\": \"Q03719\", \"label\": \"Q03719\", \"shape\": \"dot\"}, {\"id\": \"Q6PHZ8\", \"label\": \"Q6PHZ8\", \"shape\": \"dot\"}, {\"id\": \"Q9JJ57\", \"label\": \"Q9JJ57\", \"shape\": \"dot\"}, {\"id\": \"Q9JJ69\", \"label\": \"Q9JJ69\", \"shape\": \"dot\"}, {\"id\": \"Q9QXT8\", \"label\": \"Q9QXT8\", \"shape\": \"dot\"}, {\"id\": \"Q9Z0V1\", \"label\": \"Q9Z0V1\", \"shape\": \"dot\"}, {\"id\": \"Q9Z0V2\", \"label\": \"Q9Z0V2\", \"shape\": \"dot\"}, {\"id\": \"A0A286ZLV7\", \"label\": \"A0A286ZLV7\", \"shape\": \"dot\"}, {\"id\": \"A0A286ZLY4\", \"label\": \"A0A286ZLY4\", \"shape\": \"dot\"}, {\"id\": \"A0A287AGM2\", \"label\": \"A0A287AGM2\", \"shape\": \"dot\"}, {\"id\": \"A0A287ANB2\", \"label\": \"A0A287ANB2\", \"shape\": \"dot\"}, {\"id\": \"A0A287ARY2\", \"label\": \"A0A287ARY2\", \"shape\": \"dot\"}, {\"id\": \"A0A287AY47\", \"label\": \"A0A287AY47\", \"shape\": \"dot\"}, {\"id\": \"A0A287B2V0\", \"label\": \"A0A287B2V0\", \"shape\": \"dot\"}, {\"id\": \"A0A287BCC5\", \"label\": \"A0A287BCC5\", \"shape\": \"dot\"}, {\"id\": \"A0A287BN25\", \"label\": \"A0A287BN25\", \"shape\": \"dot\"}, {\"id\": \"A0A287BNX1\", \"label\": \"A0A287BNX1\", \"shape\": \"dot\"}, {\"id\": \"A0A287BS01\", \"label\": \"A0A287BS01\", \"shape\": \"dot\"}, {\"id\": \"A0A5G2QCQ9\", \"label\": \"A0A5G2QCQ9\", \"shape\": \"dot\"}, {\"id\": \"A0A5G2RE65\", \"label\": \"A0A5G2RE65\", \"shape\": \"dot\"}, {\"id\": \"A0A5G2RJN8\", \"label\": \"A0A5G2RJN8\", \"shape\": \"dot\"}, {\"id\": \"F1RL74\", \"label\": \"F1RL74\", \"shape\": \"dot\"}, {\"id\": \"F1RSK2\", \"label\": \"F1RSK2\", \"shape\": \"dot\"}, {\"id\": \"F1S145\", \"label\": \"F1S145\", \"shape\": \"dot\"}, {\"id\": \"F1SAL3\", \"label\": \"F1SAL3\", \"shape\": \"dot\"}, {\"id\": \"F1SJS7\", \"label\": \"F1SJS7\", \"shape\": \"dot\"}, {\"id\": \"I3LH33\", \"label\": \"I3LH33\", \"shape\": \"dot\"}, {\"id\": \"I3LPL6\", \"label\": \"I3LPL6\", \"shape\": \"dot\"}, {\"id\": \"Q95266\", \"label\": \"Q95266\", \"shape\": \"dot\"}, {\"id\": \"D3ZYK3\", \"label\": \"D3ZYK3\", \"shape\": \"dot\"}, {\"id\": \"Q62897\", \"label\": \"Q62897\", \"shape\": \"dot\"}, {\"id\": \"Q8R426\", \"label\": \"Q8R426\", \"shape\": \"dot\"}, {\"id\": \"Q99MG9\", \"label\": \"Q99MG9\", \"shape\": \"dot\"}, {\"id\": \"Q9JM47\", \"label\": \"Q9JM47\", \"shape\": \"dot\"}, {\"id\": \"Q9JM59\", \"label\": \"Q9JM59\", \"shape\": \"dot\"}, {\"id\": \"A0A0G2K2B5\", \"label\": \"A0A0G2K2B5\", \"shape\": \"dot\"}, {\"id\": \"B0LPN4\", \"label\": \"B0LPN4\", \"shape\": \"dot\"}, {\"id\": \"B5DFN2\", \"label\": \"B5DFN2\", \"shape\": \"dot\"}, {\"id\": \"D3ZYV4\", \"label\": \"D3ZYV4\", \"shape\": \"dot\"}, {\"id\": \"F1LMY4\", \"label\": \"F1LMY4\", \"shape\": \"dot\"}, {\"id\": \"F1M7A1\", \"label\": \"F1M7A1\", \"shape\": \"dot\"}, {\"id\": \"O08589\", \"label\": \"O08589\", \"shape\": \"dot\"}, {\"id\": \"P06685\", \"label\": \"P06685\", \"shape\": \"dot\"}, {\"id\": \"P06686\", \"label\": \"P06686\", \"shape\": \"dot\"}, {\"id\": \"P06687\", \"label\": \"P06687\", \"shape\": \"dot\"}, {\"id\": \"P07340\", \"label\": \"P07340\", \"shape\": \"dot\"}, {\"id\": \"P08413\", \"label\": \"P08413\", \"shape\": \"dot\"}, {\"id\": \"P0DP31\", \"label\": \"P0DP31\", \"shape\": \"dot\"}, {\"id\": \"P11275\", \"label\": \"P11275\", \"shape\": \"dot\"}, {\"id\": \"P11505\", \"label\": \"P11505\", \"shape\": \"dot\"}, {\"id\": \"P11506\", \"label\": \"P11506\", \"shape\": \"dot\"}, {\"id\": \"P11507\", \"label\": \"P11507\", \"shape\": \"dot\"}, {\"id\": \"P11730\", \"label\": \"P11730\", \"shape\": \"dot\"}, {\"id\": \"P13638\", \"label\": \"P13638\", \"shape\": \"dot\"}, {\"id\": \"P15791\", \"label\": \"P15791\", \"shape\": \"dot\"}, {\"id\": \"P18596\", \"label\": \"P18596\", \"shape\": \"dot\"}, {\"id\": \"P19633\", \"label\": \"P19633\", \"shape\": \"dot\"}, {\"id\": \"P23693\", \"label\": \"P23693\", \"shape\": \"dot\"}, {\"id\": \"P27791\", \"label\": \"P27791\", \"shape\": \"dot\"}, {\"id\": \"P29476\", \"label\": \"P29476\", \"shape\": \"dot\"}, {\"id\": \"P29994\", \"label\": \"P29994\", \"shape\": \"dot\"}, {\"id\": \"P29995\", \"label\": \"P29995\", \"shape\": \"dot\"}, {\"id\": \"P48768\", \"label\": \"P48768\", \"shape\": \"dot\"}, {\"id\": \"P51868\", \"label\": \"P51868\", \"shape\": \"dot\"}, {\"id\": \"P59645\", \"label\": \"P59645\", \"shape\": \"dot\"}, {\"id\": \"P59649\", \"label\": \"P59649\", \"shape\": \"dot\"}, {\"id\": \"P61016\", \"label\": \"P61016\", \"shape\": \"dot\"}, {\"id\": \"P70549\", \"label\": \"P70549\", \"shape\": \"dot\"}, {\"id\": \"P70673\", \"label\": \"P70673\", \"shape\": \"dot\"}, {\"id\": \"P84903\", \"label\": \"P84903\", \"shape\": \"dot\"}, {\"id\": \"P97534\", \"label\": \"P97534\", \"shape\": \"dot\"}, {\"id\": \"Q01728\", \"label\": \"Q01728\", \"shape\": \"dot\"}, {\"id\": \"Q04679\", \"label\": \"Q04679\", \"shape\": \"dot\"}, {\"id\": \"Q5M883\", \"label\": \"Q5M883\", \"shape\": \"dot\"}, {\"id\": \"Q63113\", \"label\": \"Q63113\", \"shape\": \"dot\"}, {\"id\": \"Q63269\", \"label\": \"Q63269\", \"shape\": \"dot\"}, {\"id\": \"Q63377\", \"label\": \"Q63377\", \"shape\": \"dot\"}, {\"id\": \"Q63563\", \"label\": \"Q63563\", \"shape\": \"dot\"}, {\"id\": \"Q64541\", \"label\": \"Q64541\", \"shape\": \"dot\"}, {\"id\": \"Q64542\", \"label\": \"Q64542\", \"shape\": \"dot\"}, {\"id\": \"Q64568\", \"label\": \"Q64568\", \"shape\": \"dot\"}, {\"id\": \"Q91XV6\", \"label\": \"Q91XV6\", \"shape\": \"dot\"}, {\"id\": \"Q9QX01\", \"label\": \"Q9QX01\", \"shape\": \"dot\"}, {\"id\": \"Q9QX75\", \"label\": \"Q9QX75\", \"shape\": \"dot\"}, {\"id\": \"P01161\", \"label\": \"P01161\", \"shape\": \"dot\"}, {\"id\": \"P16067\", \"label\": \"P16067\", \"shape\": \"dot\"}, {\"id\": \"P18910\", \"label\": \"P18910\", \"shape\": \"dot\"}, {\"id\": \"P55207\", \"label\": \"P55207\", \"shape\": \"dot\"}, {\"id\": \"Q80YN4\", \"label\": \"Q80YN4\", \"shape\": \"dot\"}, {\"id\": \"O35219\", \"label\": \"O35219\", \"shape\": \"dot\"}, {\"id\": \"P97414\", \"label\": \"P97414\", \"shape\": \"dot\"}, {\"id\": \"Q70FJ1\", \"label\": \"Q70FJ1\", \"shape\": \"dot\"}, {\"id\": \"Q9D808\", \"label\": \"Q9D808\", \"shape\": \"dot\"}, {\"id\": \"Q9QZ26\", \"label\": \"Q9QZ26\", \"shape\": \"dot\"}, {\"id\": \"Q9WTW2\", \"label\": \"Q9WTW2\", \"shape\": \"dot\"}, {\"id\": \"Q9WTW3\", \"label\": \"Q9WTW3\", \"shape\": \"dot\"}, {\"id\": \"D3ZLR9\", \"label\": \"D3ZLR9\", \"shape\": \"dot\"}, {\"id\": \"D4A806\", \"label\": \"D4A806\", \"shape\": \"dot\"}, {\"id\": \"G3V8R8\", \"label\": \"G3V8R8\", \"shape\": \"dot\"}, {\"id\": \"G3V8V5\", \"label\": \"G3V8V5\", \"shape\": \"dot\"}, {\"id\": \"M0R8B9\", \"label\": \"M0R8B9\", \"shape\": \"dot\"}, {\"id\": \"O54912\", \"label\": \"O54912\", \"shape\": \"dot\"}, {\"id\": \"O70596\", \"label\": \"O70596\", \"shape\": \"dot\"}, {\"id\": \"P52188\", \"label\": \"P52188\", \"shape\": \"dot\"}, {\"id\": \"P52190\", \"label\": \"P52190\", \"shape\": \"dot\"}, {\"id\": \"Q64273\", \"label\": \"Q64273\", \"shape\": \"dot\"}, {\"id\": \"Q6Q1P3\", \"label\": \"Q6Q1P3\", \"shape\": \"dot\"}, {\"id\": \"Q8R5I0\", \"label\": \"Q8R5I0\", \"shape\": \"dot\"}, {\"id\": \"Q920B6\", \"label\": \"Q920B6\", \"shape\": \"dot\"}, {\"id\": \"Q9ERS0\", \"label\": \"Q9ERS0\", \"shape\": \"dot\"}, {\"id\": \"Q9ERS1\", \"label\": \"Q9ERS1\", \"shape\": \"dot\"}, {\"id\": \"Q9ES08\", \"label\": \"Q9ES08\", \"shape\": \"dot\"}, {\"id\": \"Q9JIS4\", \"label\": \"Q9JIS4\", \"shape\": \"dot\"}, {\"id\": \"Q9Z2T2\", \"label\": \"Q9Z2T2\", \"shape\": \"dot\"}, {\"id\": \"O00168\", \"label\": \"O00168\", \"shape\": \"dot\"}, {\"id\": \"O00631\", \"label\": \"O00631\", \"shape\": \"dot\"}, {\"id\": \"O14958\", \"label\": \"O14958\", \"shape\": \"dot\"}, {\"id\": \"O14983\", \"label\": \"O14983\", \"shape\": \"dot\"}, {\"id\": \"O15247\", \"label\": \"O15247\", \"shape\": \"dot\"}, {\"id\": \"O43865\", \"label\": \"O43865\", \"shape\": \"dot\"}, {\"id\": \"O60706\", \"label\": \"O60706\", \"shape\": \"dot\"}, {\"id\": \"P05023\", \"label\": \"P05023\", \"shape\": \"dot\"}, {\"id\": \"P05026\", \"label\": \"P05026\", \"shape\": \"dot\"}, {\"id\": \"P0DP23\", \"label\": \"P0DP23\", \"shape\": \"dot\"}, {\"id\": \"P13637\", \"label\": \"P13637\", \"shape\": \"dot\"}, {\"id\": \"P14415\", \"label\": \"P14415\", \"shape\": \"dot\"}, {\"id\": \"P16615\", \"label\": \"P16615\", \"shape\": \"dot\"}, {\"id\": \"P17612\", \"label\": \"P17612\", \"shape\": \"dot\"}, {\"id\": \"P19429\", \"label\": \"P19429\", \"shape\": \"dot\"}, {\"id\": \"P20020\", \"label\": \"P20020\", \"shape\": \"dot\"}, {\"id\": \"P21817\", \"label\": \"P21817\", \"shape\": \"dot\"}, {\"id\": \"P23634\", \"label\": \"P23634\", \"shape\": \"dot\"}, {\"id\": \"P26678\", \"label\": \"P26678\", \"shape\": \"dot\"}, {\"id\": \"P29475\", \"label\": \"P29475\", \"shape\": \"dot\"}, {\"id\": \"P30626\", \"label\": \"P30626\", \"shape\": \"dot\"}, {\"id\": \"P31415\", \"label\": \"P31415\", \"shape\": \"dot\"}, {\"id\": \"P32418\", \"label\": \"P32418\", \"shape\": \"dot\"}, {\"id\": \"P48995\", \"label\": \"P48995\", \"shape\": \"dot\"}, {\"id\": \"P50993\", \"label\": \"P50993\", \"shape\": \"dot\"}, {\"id\": \"P54709\", \"label\": \"P54709\", \"shape\": \"dot\"}, {\"id\": \"P54710\", \"label\": \"P54710\", \"shape\": \"dot\"}, {\"id\": \"P57103\", \"label\": \"P57103\", \"shape\": \"dot\"}, {\"id\": \"P58549\", \"label\": \"P58549\", \"shape\": \"dot\"}, {\"id\": \"P59646\", \"label\": \"P59646\", \"shape\": \"dot\"}, {\"id\": \"P68106\", \"label\": \"P68106\", \"shape\": \"dot\"}, {\"id\": \"Q01814\", \"label\": \"Q01814\", \"shape\": \"dot\"}, {\"id\": \"Q09013\", \"label\": \"Q09013\", \"shape\": \"dot\"}, {\"id\": \"Q12797\", \"label\": \"Q12797\", \"shape\": \"dot\"}, {\"id\": \"Q13061\", \"label\": \"Q13061\", \"shape\": \"dot\"}, {\"id\": \"Q13554\", \"label\": \"Q13554\", \"shape\": \"dot\"}, {\"id\": \"Q13555\", \"label\": \"Q13555\", \"shape\": \"dot\"}, {\"id\": \"Q13557\", \"label\": \"Q13557\", \"shape\": \"dot\"}, {\"id\": \"Q13586\", \"label\": \"Q13586\", \"shape\": \"dot\"}, {\"id\": \"Q13733\", \"label\": \"Q13733\", \"shape\": \"dot\"}, {\"id\": \"Q14571\", \"label\": \"Q14571\", \"shape\": \"dot\"}, {\"id\": \"Q14573\", \"label\": \"Q14573\", \"shape\": \"dot\"}, {\"id\": \"Q14643\", \"label\": \"Q14643\", \"shape\": \"dot\"}, {\"id\": \"Q14654\", \"label\": \"Q14654\", \"shape\": \"dot\"}, {\"id\": \"Q14802\", \"label\": \"Q14802\", \"shape\": \"dot\"}, {\"id\": \"Q15413\", \"label\": \"Q15413\", \"shape\": \"dot\"}, {\"id\": \"Q16720\", \"label\": \"Q16720\", \"shape\": \"dot\"}, {\"id\": \"Q92736\", \"label\": \"Q92736\", \"shape\": \"dot\"}, {\"id\": \"Q93084\", \"label\": \"Q93084\", \"shape\": \"dot\"}, {\"id\": \"Q96D31\", \"label\": \"Q96D31\", \"shape\": \"dot\"}, {\"id\": \"Q96SN7\", \"label\": \"Q96SN7\", \"shape\": \"dot\"}, {\"id\": \"Q9H0Q3\", \"label\": \"Q9H0Q3\", \"shape\": \"dot\"}, {\"id\": \"Q9UPR5\", \"label\": \"Q9UPR5\", \"shape\": \"dot\"}, {\"id\": \"Q9UQM7\", \"label\": \"Q9UQM7\", \"shape\": \"dot\"}, {\"id\": \"Q6PIL6\", \"label\": \"Q6PIL6\", \"shape\": \"dot\"}, {\"id\": \"Q9NS61\", \"label\": \"Q9NS61\", \"shape\": \"dot\"}, {\"id\": \"Q9NSA2\", \"label\": \"Q9NSA2\", \"shape\": \"dot\"}, {\"id\": \"Q9NZI2\", \"label\": \"Q9NZI2\", \"shape\": \"dot\"}, {\"id\": \"Q9NZV8\", \"label\": \"Q9NZV8\", \"shape\": \"dot\"}, {\"id\": \"Q9UK17\", \"label\": \"Q9UK17\", \"shape\": \"dot\"}, {\"id\": \"Q9Y2W7\", \"label\": \"Q9Y2W7\", \"shape\": \"dot\"}, {\"id\": \"O00180\", \"label\": \"O00180\", \"shape\": \"dot\"}, {\"id\": \"O14649\", \"label\": \"O14649\", \"shape\": \"dot\"}, {\"id\": \"O95069\", \"label\": \"O95069\", \"shape\": \"dot\"}, {\"id\": \"O95279\", \"label\": \"O95279\", \"shape\": \"dot\"}, {\"id\": \"P48050\", \"label\": \"P48050\", \"shape\": \"dot\"}, {\"id\": \"P57789\", \"label\": \"P57789\", \"shape\": \"dot\"}, {\"id\": \"P63252\", \"label\": \"P63252\", \"shape\": \"dot\"}, {\"id\": \"Q14500\", \"label\": \"Q14500\", \"shape\": \"dot\"}, {\"id\": \"Q7Z418\", \"label\": \"Q7Z418\", \"shape\": \"dot\"}, {\"id\": \"Q96T54\", \"label\": \"Q96T54\", \"shape\": \"dot\"}, {\"id\": \"Q96T55\", \"label\": \"Q96T55\", \"shape\": \"dot\"}, {\"id\": \"Q9H427\", \"label\": \"Q9H427\", \"shape\": \"dot\"}, {\"id\": \"Q9HB14\", \"label\": \"Q9HB14\", \"shape\": \"dot\"}, {\"id\": \"Q9HB15\", \"label\": \"Q9HB15\", \"shape\": \"dot\"}, {\"id\": \"Q9NPC2\", \"label\": \"Q9NPC2\", \"shape\": \"dot\"}, {\"id\": \"Q9NYG8\", \"label\": \"Q9NYG8\", \"shape\": \"dot\"}, {\"id\": \"Q9UNX9\", \"label\": \"Q9UNX9\", \"shape\": \"dot\"}, {\"id\": \"Q9Y257\", \"label\": \"Q9Y257\", \"shape\": \"dot\"}, {\"id\": \"Q9Y2U2\", \"label\": \"Q9Y2U2\", \"shape\": \"dot\"}, {\"id\": \"A0A286ZW00\", \"label\": \"A0A286ZW00\", \"shape\": \"dot\"}, {\"id\": \"A0A5G2QNS8\", \"label\": \"A0A5G2QNS8\", \"shape\": \"dot\"}, {\"id\": \"A0A5G2QVE3\", \"label\": \"A0A5G2QVE3\", \"shape\": \"dot\"}, {\"id\": \"A0A5G2R345\", \"label\": \"A0A5G2R345\", \"shape\": \"dot\"}, {\"id\": \"F1S8T5\", \"label\": \"F1S8T5\", \"shape\": \"dot\"}, {\"id\": \"F1SBP4\", \"label\": \"F1SBP4\", \"shape\": \"dot\"}, {\"id\": \"F1SU60\", \"label\": \"F1SU60\", \"shape\": \"dot\"}, {\"id\": \"A0A287B4X9\", \"label\": \"A0A287B4X9\", \"shape\": \"dot\"}, {\"id\": \"P18104\", \"label\": \"P18104\", \"shape\": \"dot\"}, {\"id\": \"P62956\", \"label\": \"P62956\", \"shape\": \"dot\"}, {\"id\": \"Q01815\", \"label\": \"Q01815\", \"shape\": \"dot\"}, {\"id\": \"Q6PHS9\", \"label\": \"Q6PHS9\", \"shape\": \"dot\"}, {\"id\": \"Q8CC27\", \"label\": \"Q8CC27\", \"shape\": \"dot\"}, {\"id\": \"Q8R3Z5\", \"label\": \"Q8R3Z5\", \"shape\": \"dot\"}, {\"id\": \"Q8VHW2\", \"label\": \"Q8VHW2\", \"shape\": \"dot\"}, {\"id\": \"Q8VHW3\", \"label\": \"Q8VHW3\", \"shape\": \"dot\"}, {\"id\": \"Q9JJV4\", \"label\": \"Q9JJV4\", \"shape\": \"dot\"}, {\"id\": \"P15382\", \"label\": \"P15382\", \"shape\": \"dot\"}, {\"id\": \"P51787\", \"label\": \"P51787\", \"shape\": \"dot\"}, {\"id\": \"Q12809\", \"label\": \"Q12809\", \"shape\": \"dot\"}, {\"id\": \"Q8WWG9\", \"label\": \"Q8WWG9\", \"shape\": \"dot\"}, {\"id\": \"Q99996\", \"label\": \"Q99996\", \"shape\": \"dot\"}, {\"id\": \"Q9UJ90\", \"label\": \"Q9UJ90\", \"shape\": \"dot\"}, {\"id\": \"Q9Y6H6\", \"label\": \"Q9Y6H6\", \"shape\": \"dot\"}, {\"id\": \"Q9Y6J6\", \"label\": \"Q9Y6J6\", \"shape\": \"dot\"}, {\"id\": \"A2APX8\", \"label\": \"A2APX8\", \"shape\": \"dot\"}, {\"id\": \"A2ASI5\", \"label\": \"A2ASI5\", \"shape\": \"dot\"}, {\"id\": \"B1AWN6\", \"label\": \"B1AWN6\", \"shape\": \"dot\"}, {\"id\": \"B1AYL1\", \"label\": \"B1AYL1\", \"shape\": \"dot\"}, {\"id\": \"P61329\", \"label\": \"P61329\", \"shape\": \"dot\"}, {\"id\": \"P70377\", \"label\": \"P70377\", \"shape\": \"dot\"}, {\"id\": \"P70378\", \"label\": \"P70378\", \"shape\": \"dot\"}, {\"id\": \"P70379\", \"label\": \"P70379\", \"shape\": \"dot\"}, {\"id\": \"P97952\", \"label\": \"P97952\", \"shape\": \"dot\"}, {\"id\": \"Q56A07\", \"label\": \"Q56A07\", \"shape\": \"dot\"}, {\"id\": \"Q62205\", \"label\": \"Q62205\", \"shape\": \"dot\"}, {\"id\": \"Q6QIY3\", \"label\": \"Q6QIY3\", \"shape\": \"dot\"}, {\"id\": \"Q7M729\", \"label\": \"Q7M729\", \"shape\": \"dot\"}, {\"id\": \"Q8BHK2\", \"label\": \"Q8BHK2\", \"shape\": \"dot\"}, {\"id\": \"Q9ER60\", \"label\": \"Q9ER60\", \"shape\": \"dot\"}, {\"id\": \"Q9JIB0\", \"label\": \"Q9JIB0\", \"shape\": \"dot\"}, {\"id\": \"Q9JJV9\", \"label\": \"Q9JJV9\", \"shape\": \"dot\"}, {\"id\": \"Q9R053\", \"label\": \"Q9R053\", \"shape\": \"dot\"}, {\"id\": \"Q9WTU3\", \"label\": \"Q9WTU3\", \"shape\": \"dot\"}, {\"id\": \"A0A0G2K548\", \"label\": \"A0A0G2K548\", \"shape\": \"dot\"}, {\"id\": \"A5HKJ1\", \"label\": \"A5HKJ1\", \"shape\": \"dot\"}, {\"id\": \"O08962\", \"label\": \"O08962\", \"shape\": \"dot\"}, {\"id\": \"P63161\", \"label\": \"P63161\", \"shape\": \"dot\"}, {\"id\": \"Q71FD8\", \"label\": \"Q71FD8\", \"shape\": \"dot\"}, {\"id\": \"Q9JJV7\", \"label\": \"Q9JJV7\", \"shape\": \"dot\"}, {\"id\": \"Q9Z0N7\", \"label\": \"Q9Z0N7\", \"shape\": \"dot\"}, {\"id\": \"A0A286ZMZ4\", \"label\": \"A0A286ZMZ4\", \"shape\": \"dot\"}, {\"id\": \"A0A286ZYJ4\", \"label\": \"A0A286ZYJ4\", \"shape\": \"dot\"}, {\"id\": \"A0A287A5K0\", \"label\": \"A0A287A5K0\", \"shape\": \"dot\"}, {\"id\": \"A0A287A685\", \"label\": \"A0A287A685\", \"shape\": \"dot\"}, {\"id\": \"A0A287AIG4\", \"label\": \"A0A287AIG4\", \"shape\": \"dot\"}, {\"id\": \"A0A287AWU0\", \"label\": \"A0A287AWU0\", \"shape\": \"dot\"}, {\"id\": \"A0A287B0A6\", \"label\": \"A0A287B0A6\", \"shape\": \"dot\"}, {\"id\": \"F1RGV1\", \"label\": \"F1RGV1\", \"shape\": \"dot\"}, {\"id\": \"F1RL84\", \"label\": \"F1RL84\", \"shape\": \"dot\"}, {\"id\": \"F1RQN9\", \"label\": \"F1RQN9\", \"shape\": \"dot\"}, {\"id\": \"F1RRI8\", \"label\": \"F1RRI8\", \"shape\": \"dot\"}, {\"id\": \"F1RVQ8\", \"label\": \"F1RVQ8\", \"shape\": \"dot\"}, {\"id\": \"F1RVQ9\", \"label\": \"F1RVQ9\", \"shape\": \"dot\"}, {\"id\": \"F1SDA6\", \"label\": \"F1SDA6\", \"shape\": \"dot\"}, {\"id\": \"F1SDS1\", \"label\": \"F1SDS1\", \"shape\": \"dot\"}, {\"id\": \"F1SKP8\", \"label\": \"F1SKP8\", \"shape\": \"dot\"}, {\"id\": \"F1SQH8\", \"label\": \"F1SQH8\", \"shape\": \"dot\"}, {\"id\": \"B2RVL1\", \"label\": \"B2RVL1\", \"shape\": \"dot\"}, {\"id\": \"G5E845\", \"label\": \"G5E845\", \"shape\": \"dot\"}, {\"id\": \"O08581\", \"label\": \"O08581\", \"shape\": \"dot\"}, {\"id\": \"O35111\", \"label\": \"O35111\", \"shape\": \"dot\"}, {\"id\": \"O88454\", \"label\": \"O88454\", \"shape\": \"dot\"}, {\"id\": \"P35561\", \"label\": \"P35561\", \"shape\": \"dot\"}, {\"id\": \"P52187\", \"label\": \"P52187\", \"shape\": \"dot\"}, {\"id\": \"P52189\", \"label\": \"P52189\", \"shape\": \"dot\"}, {\"id\": \"P97438\", \"label\": \"P97438\", \"shape\": \"dot\"}, {\"id\": \"Q3LS21\", \"label\": \"Q3LS21\", \"shape\": \"dot\"}, {\"id\": \"Q3TBV4\", \"label\": \"Q3TBV4\", \"shape\": \"dot\"}, {\"id\": \"Q6VV64\", \"label\": \"Q6VV64\", \"shape\": \"dot\"}, {\"id\": \"Q76M80\", \"label\": \"Q76M80\", \"shape\": \"dot\"}, {\"id\": \"Q8BUW1\", \"label\": \"Q8BUW1\", \"shape\": \"dot\"}, {\"id\": \"Q8JZN3\", \"label\": \"Q8JZN3\", \"shape\": \"dot\"}, {\"id\": \"Q8R1P5\", \"label\": \"Q8R1P5\", \"shape\": \"dot\"}, {\"id\": \"Q9JK62\", \"label\": \"Q9JK62\", \"shape\": \"dot\"}, {\"id\": \"Q9Z2T1\", \"label\": \"Q9Z2T1\", \"shape\": \"dot\"}, {\"id\": \"D3ZMP9\", \"label\": \"D3ZMP9\", \"shape\": \"dot\"}, {\"id\": \"F1LQQ7\", \"label\": \"F1LQQ7\", \"shape\": \"dot\"}, {\"id\": \"G3V7X1\", \"label\": \"G3V7X1\", \"shape\": \"dot\"}, {\"id\": \"O08562\", \"label\": \"O08562\", \"shape\": \"dot\"}, {\"id\": \"O88420\", \"label\": \"O88420\", \"shape\": \"dot\"}, {\"id\": \"O88457\", \"label\": \"O88457\", \"shape\": \"dot\"}, {\"id\": \"P04774\", \"label\": \"P04774\", \"shape\": \"dot\"}, {\"id\": \"P04775\", \"label\": \"P04775\", \"shape\": \"dot\"}, {\"id\": \"P08104\", \"label\": \"P08104\", \"shape\": \"dot\"}, {\"id\": \"P15389\", \"label\": \"P15389\", \"shape\": \"dot\"}, {\"id\": \"P15390\", \"label\": \"P15390\", \"shape\": \"dot\"}, {\"id\": \"P22002\", \"label\": \"P22002\", \"shape\": \"dot\"}, {\"id\": \"P54283\", \"label\": \"P54283\", \"shape\": \"dot\"}, {\"id\": \"P54900\", \"label\": \"P54900\", \"shape\": \"dot\"}, {\"id\": \"P61150\", \"label\": \"P61150\", \"shape\": \"dot\"}, {\"id\": \"P62957\", \"label\": \"P62957\", \"shape\": \"dot\"}, {\"id\": \"Q00954\", \"label\": \"Q00954\", \"shape\": \"dot\"}, {\"id\": \"Q62968\", \"label\": \"Q62968\", \"shape\": \"dot\"}, {\"id\": \"Q7M730\", \"label\": \"Q7M730\", \"shape\": \"dot\"}, {\"id\": \"Q8CFG6\", \"label\": \"Q8CFG6\", \"shape\": \"dot\"}, {\"id\": \"Q8R5L7\", \"label\": \"Q8R5L7\", \"shape\": \"dot\"}, {\"id\": \"Q8VGC3\", \"label\": \"Q8VGC3\", \"shape\": \"dot\"}, {\"id\": \"Q8VHW5\", \"label\": \"Q8VHW5\", \"shape\": \"dot\"}, {\"id\": \"Q8VHW7\", \"label\": \"Q8VHW7\", \"shape\": \"dot\"}, {\"id\": \"Q8VHW9\", \"label\": \"Q8VHW9\", \"shape\": \"dot\"}, {\"id\": \"Q9ERW3\", \"label\": \"Q9ERW3\", \"shape\": \"dot\"}, {\"id\": \"Q9JK00\", \"label\": \"Q9JK00\", \"shape\": \"dot\"}, {\"id\": \"O60939\", \"label\": \"O60939\", \"shape\": \"dot\"}, {\"id\": \"P35498\", \"label\": \"P35498\", \"shape\": \"dot\"}, {\"id\": \"P35499\", \"label\": \"P35499\", \"shape\": \"dot\"}, {\"id\": \"P61328\", \"label\": \"P61328\", \"shape\": \"dot\"}, {\"id\": \"P62955\", \"label\": \"P62955\", \"shape\": \"dot\"}, {\"id\": \"Q01118\", \"label\": \"Q01118\", \"shape\": \"dot\"}, {\"id\": \"Q02641\", \"label\": \"Q02641\", \"shape\": \"dot\"}, {\"id\": \"Q07699\", \"label\": \"Q07699\", \"shape\": \"dot\"}, {\"id\": \"Q08289\", \"label\": \"Q08289\", \"shape\": \"dot\"}, {\"id\": \"Q13936\", \"label\": \"Q13936\", \"shape\": \"dot\"}, {\"id\": \"Q14524\", \"label\": \"Q14524\", \"shape\": \"dot\"}, {\"id\": \"Q15858\", \"label\": \"Q15858\", \"shape\": \"dot\"}, {\"id\": \"Q8IWT1\", \"label\": \"Q8IWT1\", \"shape\": \"dot\"}, {\"id\": \"Q8WXS5\", \"label\": \"Q8WXS5\", \"shape\": \"dot\"}, {\"id\": \"Q92913\", \"label\": \"Q92913\", \"shape\": \"dot\"}, {\"id\": \"Q92914\", \"label\": \"Q92914\", \"shape\": \"dot\"}, {\"id\": \"Q92915\", \"label\": \"Q92915\", \"shape\": \"dot\"}, {\"id\": \"Q99250\", \"label\": \"Q99250\", \"shape\": \"dot\"}, {\"id\": \"Q9BXT2\", \"label\": \"Q9BXT2\", \"shape\": \"dot\"}, {\"id\": \"Q9HD47\", \"label\": \"Q9HD47\", \"shape\": \"dot\"}, {\"id\": \"Q9NY46\", \"label\": \"Q9NY46\", \"shape\": \"dot\"}, {\"id\": \"Q9NY47\", \"label\": \"Q9NY47\", \"shape\": \"dot\"}, {\"id\": \"Q9NY72\", \"label\": \"Q9NY72\", \"shape\": \"dot\"}, {\"id\": \"Q9UBN1\", \"label\": \"Q9UBN1\", \"shape\": \"dot\"}, {\"id\": \"Q9UI33\", \"label\": \"Q9UI33\", \"shape\": \"dot\"}, {\"id\": \"Q9UQD0\", \"label\": \"Q9UQD0\", \"shape\": \"dot\"}, {\"id\": \"Q9Y5Y9\", \"label\": \"Q9Y5Y9\", \"shape\": \"dot\"}, {\"id\": \"A0A286ZK85\", \"label\": \"A0A286ZK85\", \"shape\": \"dot\"}, {\"id\": \"A0A286ZRK2\", \"label\": \"A0A286ZRK2\", \"shape\": \"dot\"}, {\"id\": \"A0A287A4L1\", \"label\": \"A0A287A4L1\", \"shape\": \"dot\"}, {\"id\": \"A0A287A6K5\", \"label\": \"A0A287A6K5\", \"shape\": \"dot\"}, {\"id\": \"A0A287AC87\", \"label\": \"A0A287AC87\", \"shape\": \"dot\"}, {\"id\": \"A0A287AL21\", \"label\": \"A0A287AL21\", \"shape\": \"dot\"}, {\"id\": \"A0A287APC7\", \"label\": \"A0A287APC7\", \"shape\": \"dot\"}, {\"id\": \"A0A287AT82\", \"label\": \"A0A287AT82\", \"shape\": \"dot\"}, {\"id\": \"A0A287BAN5\", \"label\": \"A0A287BAN5\", \"shape\": \"dot\"}, {\"id\": \"A0A287BCG8\", \"label\": \"A0A287BCG8\", \"shape\": \"dot\"}, {\"id\": \"A0A287BE30\", \"label\": \"A0A287BE30\", \"shape\": \"dot\"}, {\"id\": \"A0A287BKF3\", \"label\": \"A0A287BKF3\", \"shape\": \"dot\"}, {\"id\": \"A0A287BL11\", \"label\": \"A0A287BL11\", \"shape\": \"dot\"}, {\"id\": \"A0A287BMZ2\", \"label\": \"A0A287BMZ2\", \"shape\": \"dot\"}, {\"id\": \"A0A287BNT0\", \"label\": \"A0A287BNT0\", \"shape\": \"dot\"}, {\"id\": \"A0A5G2QCH2\", \"label\": \"A0A5G2QCH2\", \"shape\": \"dot\"}, {\"id\": \"A0A5G2QQD2\", \"label\": \"A0A5G2QQD2\", \"shape\": \"dot\"}, {\"id\": \"A0A5G2QQF7\", \"label\": \"A0A5G2QQF7\", \"shape\": \"dot\"}, {\"id\": \"A0A5G2QVM5\", \"label\": \"A0A5G2QVM5\", \"shape\": \"dot\"}, {\"id\": \"A0A5G2QZV9\", \"label\": \"A0A5G2QZV9\", \"shape\": \"dot\"}, {\"id\": \"A0A5G2R1W3\", \"label\": \"A0A5G2R1W3\", \"shape\": \"dot\"}, {\"id\": \"A0A5G2R3M0\", \"label\": \"A0A5G2R3M0\", \"shape\": \"dot\"}, {\"id\": \"A0A5K1VCX5\", \"label\": \"A0A5K1VCX5\", \"shape\": \"dot\"}, {\"id\": \"D2WKD8\", \"label\": \"D2WKD8\", \"shape\": \"dot\"}, {\"id\": \"E7EI18\", \"label\": \"E7EI18\", \"shape\": \"dot\"}, {\"id\": \"F1RJW7\", \"label\": \"F1RJW7\", \"shape\": \"dot\"}, {\"id\": \"F1S340\", \"label\": \"F1S340\", \"shape\": \"dot\"}, {\"id\": \"F1SAM6\", \"label\": \"F1SAM6\", \"shape\": \"dot\"}, {\"id\": \"F1SQA7\", \"label\": \"F1SQA7\", \"shape\": \"dot\"}, {\"id\": \"F1ST41\", \"label\": \"F1ST41\", \"shape\": \"dot\"}, {\"id\": \"F2Z5F0\", \"label\": \"F2Z5F0\", \"shape\": \"dot\"}, {\"id\": \"I3L8L8\", \"label\": \"I3L8L8\", \"shape\": \"dot\"}, {\"id\": \"P11607\", \"label\": \"P11607\", \"shape\": \"dot\"}, {\"id\": \"P61013\", \"label\": \"P61013\", \"shape\": \"dot\"}]);\n",
              "        edges = new vis.DataSet([{\"from\": \"R-MMU-5578775\", \"title\": \"from A2AGL3 to R-MMU-5578775\", \"to\": \"A2AGL3\"}, {\"from\": \"R-MMU-5578775\", \"title\": \"from E9PZQ0 to R-MMU-5578775\", \"to\": \"E9PZQ0\"}, {\"from\": \"R-MMU-5578775\", \"title\": \"from E9Q401 to R-MMU-5578775\", \"to\": \"E9Q401\"}, {\"from\": \"R-MMU-5578775\", \"title\": \"from E9Q9K5 to R-MMU-5578775\", \"to\": \"E9Q9K5\"}, {\"from\": \"R-MMU-5578775\", \"title\": \"from G5E829 to R-MMU-5578775\", \"to\": \"G5E829\"}, {\"from\": \"R-MMU-5578775\", \"title\": \"from O09161 to R-MMU-5578775\", \"to\": \"O09161\"}, {\"from\": \"R-MMU-5578775\", \"title\": \"from O09165 to R-MMU-5578775\", \"to\": \"O09165\"}, {\"from\": \"R-MMU-5578775\", \"title\": \"from O55143 to R-MMU-5578775\", \"to\": \"O55143\"}, {\"from\": \"R-MMU-5578775\", \"title\": \"from P05132 to R-MMU-5578775\", \"to\": \"P05132\"}, {\"from\": \"R-MMU-5578775\", \"title\": \"from P0DP26 to R-MMU-5578775\", \"to\": \"P0DP26\"}, {\"from\": \"R-MMU-5578775\", \"title\": \"from P11798 to R-MMU-5578775\", \"to\": \"P11798\"}, {\"from\": \"R-MMU-5578775\", \"title\": \"from P11881 to R-MMU-5578775\", \"to\": \"P11881\"}, {\"from\": \"R-MMU-5578775\", \"title\": \"from P14094 to R-MMU-5578775\", \"to\": \"P14094\"}, {\"from\": \"R-MMU-5578775\", \"title\": \"from P14231 to R-MMU-5578775\", \"to\": \"P14231\"}, {\"from\": \"R-MMU-5578775\", \"title\": \"from P28652 to R-MMU-5578775\", \"to\": \"P28652\"}, {\"from\": \"R-MMU-5578775\", \"title\": \"from P48787 to R-MMU-5578775\", \"to\": \"P48787\"}, {\"from\": \"R-MMU-5578775\", \"title\": \"from P54265 to R-MMU-5578775\", \"to\": \"P54265\"}, {\"from\": \"R-MMU-5578775\", \"title\": \"from P59648 to R-MMU-5578775\", \"to\": \"P59648\"}, {\"from\": \"R-MMU-5578775\", \"title\": \"from P61014 to R-MMU-5578775\", \"to\": \"P61014\"}, {\"from\": \"R-MMU-5578775\", \"title\": \"from P70170 to R-MMU-5578775\", \"to\": \"P70170\"}, {\"from\": \"R-MMU-5578775\", \"title\": \"from P70227 to R-MMU-5578775\", \"to\": \"P70227\"}, {\"from\": \"R-MMU-5578775\", \"title\": \"from P70302 to R-MMU-5578775\", \"to\": \"P70302\"}, {\"from\": \"R-MMU-5578775\", \"title\": \"from P70414 to R-MMU-5578775\", \"to\": \"P70414\"}, {\"from\": \"R-MMU-5578775\", \"title\": \"from P97370 to R-MMU-5578775\", \"to\": \"P97370\"}, {\"from\": \"R-MMU-5578775\", \"title\": \"from Q04646 to R-MMU-5578775\", \"to\": \"Q04646\"}, {\"from\": \"R-MMU-5578775\", \"title\": \"from Q0VF55 to R-MMU-5578775\", \"to\": \"Q0VF55\"}, {\"from\": \"R-MMU-5578775\", \"title\": \"from Q61056 to R-MMU-5578775\", \"to\": \"Q61056\"}, {\"from\": \"R-MMU-5578775\", \"title\": \"from Q61743 to R-MMU-5578775\", \"to\": \"Q61743\"}, {\"from\": \"R-MMU-5578775\", \"title\": \"from Q61835 to R-MMU-5578775\", \"to\": \"Q61835\"}, {\"from\": \"R-MMU-5578775\", \"title\": \"from Q64518 to R-MMU-5578775\", \"to\": \"Q64518\"}, {\"from\": \"R-MMU-5578775\", \"title\": \"from Q6P069 to R-MMU-5578775\", \"to\": \"Q6P069\"}, {\"from\": \"R-MMU-5578775\", \"title\": \"from Q6PHZ2 to R-MMU-5578775\", \"to\": \"Q6PHZ2\"}, {\"from\": \"R-MMU-5578775\", \"title\": \"from Q6PIC6 to R-MMU-5578775\", \"to\": \"Q6PIC6\"}, {\"from\": \"R-MMU-5578775\", \"title\": \"from Q6PIE5 to R-MMU-5578775\", \"to\": \"Q6PIE5\"}, {\"from\": \"R-MMU-5578775\", \"title\": \"from Q6Q477 to R-MMU-5578775\", \"to\": \"Q6Q477\"}, {\"from\": \"R-MMU-5578775\", \"title\": \"from Q80SW1 to R-MMU-5578775\", \"to\": \"Q80SW1\"}, {\"from\": \"R-MMU-5578775\", \"title\": \"from Q8BSY0 to R-MMU-5578775\", \"to\": \"Q8BSY0\"}, {\"from\": \"R-MMU-5578775\", \"title\": \"from Q8K596 to R-MMU-5578775\", \"to\": \"Q8K596\"}, {\"from\": \"R-MMU-5578775\", \"title\": \"from Q8R429 to R-MMU-5578775\", \"to\": \"Q8R429\"}, {\"from\": \"R-MMU-5578775\", \"title\": \"from Q8VDN2 to R-MMU-5578775\", \"to\": \"Q8VDN2\"}, {\"from\": \"R-MMU-5578775\", \"title\": \"from Q923T9 to R-MMU-5578775\", \"to\": \"Q923T9\"}, {\"from\": \"R-MMU-5578775\", \"title\": \"from Q9D164 to R-MMU-5578775\", \"to\": \"Q9D164\"}, {\"from\": \"R-MMU-5578775\", \"title\": \"from Q9D2W0 to R-MMU-5578775\", \"to\": \"Q9D2W0\"}, {\"from\": \"R-MMU-5578775\", \"title\": \"from Q9R0K7 to R-MMU-5578775\", \"to\": \"Q9R0K7\"}, {\"from\": \"R-MMU-5578775\", \"title\": \"from Q9WV27 to R-MMU-5578775\", \"to\": \"Q9WV27\"}, {\"from\": \"R-MMU-5578775\", \"title\": \"from Q9Z0J4 to R-MMU-5578775\", \"to\": \"Q9Z0J4\"}, {\"from\": \"R-MMU-5578775\", \"title\": \"from Q9Z239 to R-MMU-5578775\", \"to\": \"Q9Z239\"}, {\"from\": \"R-MMU-5578775\", \"title\": \"from Q9Z2I2 to R-MMU-5578775\", \"to\": \"Q9Z2I2\"}, {\"from\": \"R-MMU-5578775\", \"title\": \"from Q9Z329 to R-MMU-5578775\", \"to\": \"Q9Z329\"}, {\"from\": \"R-MMU-5578775\", \"title\": \"from S4R2P9 to R-MMU-5578775\", \"to\": \"S4R2P9\"}, {\"from\": \"R-SSC-5576893\", \"title\": \"from A0A286ZJB7 to R-SSC-5576893\", \"to\": \"A0A286ZJB7\"}, {\"from\": \"R-SSC-5576893\", \"title\": \"from A0A286ZNE8 to R-SSC-5576893\", \"to\": \"A0A286ZNE8\"}, {\"from\": \"R-SSC-5576893\", \"title\": \"from A0A287AB87 to R-SSC-5576893\", \"to\": \"A0A287AB87\"}, {\"from\": \"R-SSC-5576893\", \"title\": \"from A0A287ANL1 to R-SSC-5576893\", \"to\": \"A0A287ANL1\"}, {\"from\": \"R-SSC-5576893\", \"title\": \"from A0A287B082 to R-SSC-5576893\", \"to\": \"A0A287B082\"}, {\"from\": \"R-SSC-5576893\", \"title\": \"from F1RNI9 to R-SSC-5576893\", \"to\": \"F1RNI9\"}, {\"from\": \"R-SSC-5576893\", \"title\": \"from F1RNJ2 to R-SSC-5576893\", \"to\": \"F1RNJ2\"}, {\"from\": \"R-SSC-5576893\", \"title\": \"from F2Z4Y2 to R-SSC-5576893\", \"to\": \"F2Z4Y2\"}, {\"from\": \"R-HSA-5578768\", \"title\": \"from P01160 to R-HSA-5578768\", \"to\": \"P01160\"}, {\"from\": \"R-HSA-5578768\", \"title\": \"from P16066 to R-HSA-5578768\", \"to\": \"P16066\"}, {\"from\": \"R-HSA-5578768\", \"title\": \"from P20594 to R-HSA-5578768\", \"to\": \"P20594\"}, {\"from\": \"R-HSA-5578768\", \"title\": \"from P23582 to R-HSA-5578768\", \"to\": \"P23582\"}, {\"from\": \"R-HSA-5578768\", \"title\": \"from P43694 to R-HSA-5578768\", \"to\": \"P43694\"}, {\"from\": \"R-HSA-5578768\", \"title\": \"from P52952 to R-HSA-5578768\", \"to\": \"P52952\"}, {\"from\": \"R-HSA-5578768\", \"title\": \"from Q86Z02 to R-HSA-5578768\", \"to\": \"Q86Z02\"}, {\"from\": \"R-HSA-5578768\", \"title\": \"from Q92831 to R-HSA-5578768\", \"to\": \"Q92831\"}, {\"from\": \"R-HSA-5578768\", \"title\": \"from Q99593 to R-HSA-5578768\", \"to\": \"Q99593\"}, {\"from\": \"R-HSA-5578768\", \"title\": \"from Q9GZV5 to R-HSA-5578768\", \"to\": \"Q9GZV5\"}, {\"from\": \"R-HSA-5578768\", \"title\": \"from Q9H2X6 to R-HSA-5578768\", \"to\": \"Q9H2X6\"}, {\"from\": \"R-HSA-5578768\", \"title\": \"from Q9Y5Q5 to R-HSA-5578768\", \"to\": \"Q9Y5Q5\"}, {\"from\": \"R-MMU-5578768\", \"title\": \"from P05125 to R-MMU-5578768\", \"to\": \"P05125\"}, {\"from\": \"R-MMU-5578768\", \"title\": \"from P18293 to R-MMU-5578768\", \"to\": \"P18293\"}, {\"from\": \"R-MMU-5578768\", \"title\": \"from Q61839 to R-MMU-5578768\", \"to\": \"Q61839\"}, {\"from\": \"R-MMU-5578768\", \"title\": \"from Q6VVW5 to R-MMU-5578768\", \"to\": \"Q6VVW5\"}, {\"from\": \"R-MMU-5578768\", \"title\": \"from Q9Z319 to R-MMU-5578768\", \"to\": \"Q9Z319\"}, {\"from\": \"R-MMU-5576894\", \"title\": \"from Q03719 to R-MMU-5576894\", \"to\": \"Q03719\"}, {\"from\": \"R-MMU-5576894\", \"title\": \"from Q6PHZ8 to R-MMU-5576894\", \"to\": \"Q6PHZ8\"}, {\"from\": \"R-MMU-5576894\", \"title\": \"from Q9JJ57 to R-MMU-5576894\", \"to\": \"Q9JJ57\"}, {\"from\": \"R-MMU-5576894\", \"title\": \"from Q9JJ69 to R-MMU-5576894\", \"to\": \"Q9JJ69\"}, {\"from\": \"R-MMU-5576894\", \"title\": \"from Q9QXT8 to R-MMU-5576894\", \"to\": \"Q9QXT8\"}, {\"from\": \"R-MMU-5576894\", \"title\": \"from Q9Z0V1 to R-MMU-5576894\", \"to\": \"Q9Z0V1\"}, {\"from\": \"R-MMU-5576894\", \"title\": \"from Q9Z0V2 to R-MMU-5576894\", \"to\": \"Q9Z0V2\"}, {\"from\": \"R-SSC-5576892\", \"title\": \"from A0A286ZJB7 to R-SSC-5576892\", \"to\": \"A0A286ZJB7\"}, {\"from\": \"R-SSC-5576892\", \"title\": \"from A0A286ZLV7 to R-SSC-5576892\", \"to\": \"A0A286ZLV7\"}, {\"from\": \"R-SSC-5576892\", \"title\": \"from A0A286ZLY4 to R-SSC-5576892\", \"to\": \"A0A286ZLY4\"}, {\"from\": \"R-SSC-5576892\", \"title\": \"from A0A286ZNE8 to R-SSC-5576892\", \"to\": \"A0A286ZNE8\"}, {\"from\": \"R-SSC-5576892\", \"title\": \"from A0A287AB87 to R-SSC-5576892\", \"to\": \"A0A287AB87\"}, {\"from\": \"R-SSC-5576892\", \"title\": \"from A0A287AGM2 to R-SSC-5576892\", \"to\": \"A0A287AGM2\"}, {\"from\": \"R-SSC-5576892\", \"title\": \"from A0A287ANB2 to R-SSC-5576892\", \"to\": \"A0A287ANB2\"}, {\"from\": \"R-SSC-5576892\", \"title\": \"from A0A287ANL1 to R-SSC-5576892\", \"to\": \"A0A287ANL1\"}, {\"from\": \"R-SSC-5576892\", \"title\": \"from A0A287ARY2 to R-SSC-5576892\", \"to\": \"A0A287ARY2\"}, {\"from\": \"R-SSC-5576892\", \"title\": \"from A0A287AY47 to R-SSC-5576892\", \"to\": \"A0A287AY47\"}, {\"from\": \"R-SSC-5576892\", \"title\": \"from A0A287B082 to R-SSC-5576892\", \"to\": \"A0A287B082\"}, {\"from\": \"R-SSC-5576892\", \"title\": \"from A0A287B2V0 to R-SSC-5576892\", \"to\": \"A0A287B2V0\"}, {\"from\": \"R-SSC-5576892\", \"title\": \"from A0A287BCC5 to R-SSC-5576892\", \"to\": \"A0A287BCC5\"}, {\"from\": \"R-SSC-5576892\", \"title\": \"from A0A287BN25 to R-SSC-5576892\", \"to\": \"A0A287BN25\"}, {\"from\": \"R-SSC-5576892\", \"title\": \"from A0A287BNX1 to R-SSC-5576892\", \"to\": \"A0A287BNX1\"}, {\"from\": \"R-SSC-5576892\", \"title\": \"from A0A287BS01 to R-SSC-5576892\", \"to\": \"A0A287BS01\"}, {\"from\": \"R-SSC-5576892\", \"title\": \"from A0A5G2QCQ9 to R-SSC-5576892\", \"to\": \"A0A5G2QCQ9\"}, {\"from\": \"R-SSC-5576892\", \"title\": \"from A0A5G2RE65 to R-SSC-5576892\", \"to\": \"A0A5G2RE65\"}, {\"from\": \"R-SSC-5576892\", \"title\": \"from A0A5G2RJN8 to R-SSC-5576892\", \"to\": \"A0A5G2RJN8\"}, {\"from\": \"R-SSC-5576892\", \"title\": \"from F1RL74 to R-SSC-5576892\", \"to\": \"F1RL74\"}, {\"from\": \"R-SSC-5576892\", \"title\": \"from F1RNI9 to R-SSC-5576892\", \"to\": \"F1RNI9\"}, {\"from\": \"R-SSC-5576892\", \"title\": \"from F1RNJ2 to R-SSC-5576892\", \"to\": \"F1RNJ2\"}, {\"from\": \"R-SSC-5576892\", \"title\": \"from F1RSK2 to R-SSC-5576892\", \"to\": \"F1RSK2\"}, {\"from\": \"R-SSC-5576892\", \"title\": \"from F1S145 to R-SSC-5576892\", \"to\": \"F1S145\"}, {\"from\": \"R-SSC-5576892\", \"title\": \"from F1SAL3 to R-SSC-5576892\", \"to\": \"F1SAL3\"}, {\"from\": \"R-SSC-5576892\", \"title\": \"from F1SJS7 to R-SSC-5576892\", \"to\": \"F1SJS7\"}, {\"from\": \"R-SSC-5576892\", \"title\": \"from F2Z4Y2 to R-SSC-5576892\", \"to\": \"F2Z4Y2\"}, {\"from\": \"R-SSC-5576892\", \"title\": \"from I3LH33 to R-SSC-5576892\", \"to\": \"I3LH33\"}, {\"from\": \"R-SSC-5576892\", \"title\": \"from I3LPL6 to R-SSC-5576892\", \"to\": \"I3LPL6\"}, {\"from\": \"R-SSC-5576892\", \"title\": \"from Q95266 to R-SSC-5576892\", \"to\": \"Q95266\"}, {\"from\": \"R-RNO-5576894\", \"title\": \"from D3ZYK3 to R-RNO-5576894\", \"to\": \"D3ZYK3\"}, {\"from\": \"R-RNO-5576894\", \"title\": \"from Q62897 to R-RNO-5576894\", \"to\": \"Q62897\"}, {\"from\": \"R-RNO-5576894\", \"title\": \"from Q8R426 to R-RNO-5576894\", \"to\": \"Q8R426\"}, {\"from\": \"R-RNO-5576894\", \"title\": \"from Q99MG9 to R-RNO-5576894\", \"to\": \"Q99MG9\"}, {\"from\": \"R-RNO-5576894\", \"title\": \"from Q9JM47 to R-RNO-5576894\", \"to\": \"Q9JM47\"}, {\"from\": \"R-RNO-5576894\", \"title\": \"from Q9JM59 to R-RNO-5576894\", \"to\": \"Q9JM59\"}, {\"from\": \"R-RNO-5578775\", \"title\": \"from A0A0G2K2B5 to R-RNO-5578775\", \"to\": \"A0A0G2K2B5\"}, {\"from\": \"R-RNO-5578775\", \"title\": \"from B0LPN4 to R-RNO-5578775\", \"to\": \"B0LPN4\"}, {\"from\": \"R-RNO-5578775\", \"title\": \"from B5DFN2 to R-RNO-5578775\", \"to\": \"B5DFN2\"}, {\"from\": \"R-RNO-5578775\", \"title\": \"from D3ZYV4 to R-RNO-5578775\", \"to\": \"D3ZYV4\"}, {\"from\": \"R-RNO-5578775\", \"title\": \"from F1LMY4 to R-RNO-5578775\", \"to\": \"F1LMY4\"}, {\"from\": \"R-RNO-5578775\", \"title\": \"from F1M7A1 to R-RNO-5578775\", \"to\": \"F1M7A1\"}, {\"from\": \"R-RNO-5578775\", \"title\": \"from O08589 to R-RNO-5578775\", \"to\": \"O08589\"}, {\"from\": \"R-RNO-5578775\", \"title\": \"from P06685 to R-RNO-5578775\", \"to\": \"P06685\"}, {\"from\": \"R-RNO-5578775\", \"title\": \"from P06686 to R-RNO-5578775\", \"to\": \"P06686\"}, {\"from\": \"R-RNO-5578775\", \"title\": \"from P06687 to R-RNO-5578775\", \"to\": \"P06687\"}, {\"from\": \"R-RNO-5578775\", \"title\": \"from P07340 to R-RNO-5578775\", \"to\": \"P07340\"}, {\"from\": \"R-RNO-5578775\", \"title\": \"from P08413 to R-RNO-5578775\", \"to\": \"P08413\"}, {\"from\": \"R-RNO-5578775\", \"title\": \"from P0DP31 to R-RNO-5578775\", \"to\": \"P0DP31\"}, {\"from\": \"R-RNO-5578775\", \"title\": \"from P11275 to R-RNO-5578775\", \"to\": \"P11275\"}, {\"from\": \"R-RNO-5578775\", \"title\": \"from P11505 to R-RNO-5578775\", \"to\": \"P11505\"}, {\"from\": \"R-RNO-5578775\", \"title\": \"from P11506 to R-RNO-5578775\", \"to\": \"P11506\"}, {\"from\": \"R-RNO-5578775\", \"title\": \"from P11507 to R-RNO-5578775\", \"to\": \"P11507\"}, {\"from\": \"R-RNO-5578775\", \"title\": \"from P11730 to R-RNO-5578775\", \"to\": \"P11730\"}, {\"from\": \"R-RNO-5578775\", \"title\": \"from P13638 to R-RNO-5578775\", \"to\": \"P13638\"}, {\"from\": \"R-RNO-5578775\", \"title\": \"from P15791 to R-RNO-5578775\", \"to\": \"P15791\"}, {\"from\": \"R-RNO-5578775\", \"title\": \"from P18596 to R-RNO-5578775\", \"to\": \"P18596\"}, {\"from\": \"R-RNO-5578775\", \"title\": \"from P19633 to R-RNO-5578775\", \"to\": \"P19633\"}, {\"from\": \"R-RNO-5578775\", \"title\": \"from P23693 to R-RNO-5578775\", \"to\": \"P23693\"}, {\"from\": \"R-RNO-5578775\", \"title\": \"from P27791 to R-RNO-5578775\", \"to\": \"P27791\"}, {\"from\": \"R-RNO-5578775\", \"title\": \"from P29476 to R-RNO-5578775\", \"to\": \"P29476\"}, {\"from\": \"R-RNO-5578775\", \"title\": \"from P29994 to R-RNO-5578775\", \"to\": \"P29994\"}, {\"from\": \"R-RNO-5578775\", \"title\": \"from P29995 to R-RNO-5578775\", \"to\": \"P29995\"}, {\"from\": \"R-RNO-5578775\", \"title\": \"from P48768 to R-RNO-5578775\", \"to\": \"P48768\"}, {\"from\": \"R-RNO-5578775\", \"title\": \"from P51868 to R-RNO-5578775\", \"to\": \"P51868\"}, {\"from\": \"R-RNO-5578775\", \"title\": \"from P59645 to R-RNO-5578775\", \"to\": \"P59645\"}, {\"from\": \"R-RNO-5578775\", \"title\": \"from P59649 to R-RNO-5578775\", \"to\": \"P59649\"}, {\"from\": \"R-RNO-5578775\", \"title\": \"from P61016 to R-RNO-5578775\", \"to\": \"P61016\"}, {\"from\": \"R-RNO-5578775\", \"title\": \"from P70549 to R-RNO-5578775\", \"to\": \"P70549\"}, {\"from\": \"R-RNO-5578775\", \"title\": \"from P70673 to R-RNO-5578775\", \"to\": \"P70673\"}, {\"from\": \"R-RNO-5578775\", \"title\": \"from P84903 to R-RNO-5578775\", \"to\": \"P84903\"}, {\"from\": \"R-RNO-5578775\", \"title\": \"from P97534 to R-RNO-5578775\", \"to\": \"P97534\"}, {\"from\": \"R-RNO-5578775\", \"title\": \"from Q01728 to R-RNO-5578775\", \"to\": \"Q01728\"}, {\"from\": \"R-RNO-5578775\", \"title\": \"from Q04679 to R-RNO-5578775\", \"to\": \"Q04679\"}, {\"from\": \"R-RNO-5578775\", \"title\": \"from Q5M883 to R-RNO-5578775\", \"to\": \"Q5M883\"}, {\"from\": \"R-RNO-5578775\", \"title\": \"from Q63113 to R-RNO-5578775\", \"to\": \"Q63113\"}, {\"from\": \"R-RNO-5578775\", \"title\": \"from Q63269 to R-RNO-5578775\", \"to\": \"Q63269\"}, {\"from\": \"R-RNO-5578775\", \"title\": \"from Q63377 to R-RNO-5578775\", \"to\": \"Q63377\"}, {\"from\": \"R-RNO-5578775\", \"title\": \"from Q63563 to R-RNO-5578775\", \"to\": \"Q63563\"}, {\"from\": \"R-RNO-5578775\", \"title\": \"from Q64541 to R-RNO-5578775\", \"to\": \"Q64541\"}, {\"from\": \"R-RNO-5578775\", \"title\": \"from Q64542 to R-RNO-5578775\", \"to\": \"Q64542\"}, {\"from\": \"R-RNO-5578775\", \"title\": \"from Q64568 to R-RNO-5578775\", \"to\": \"Q64568\"}, {\"from\": \"R-RNO-5578775\", \"title\": \"from Q91XV6 to R-RNO-5578775\", \"to\": \"Q91XV6\"}, {\"from\": \"R-RNO-5578775\", \"title\": \"from Q9QX01 to R-RNO-5578775\", \"to\": \"Q9QX01\"}, {\"from\": \"R-RNO-5578775\", \"title\": \"from Q9QX75 to R-RNO-5578775\", \"to\": \"Q9QX75\"}, {\"from\": \"R-RNO-5578768\", \"title\": \"from P01161 to R-RNO-5578768\", \"to\": \"P01161\"}, {\"from\": \"R-RNO-5578768\", \"title\": \"from P16067 to R-RNO-5578768\", \"to\": \"P16067\"}, {\"from\": \"R-RNO-5578768\", \"title\": \"from P18910 to R-RNO-5578768\", \"to\": \"P18910\"}, {\"from\": \"R-RNO-5578768\", \"title\": \"from P55207 to R-RNO-5578768\", \"to\": \"P55207\"}, {\"from\": \"R-RNO-5578768\", \"title\": \"from Q80YN4 to R-RNO-5578768\", \"to\": \"Q80YN4\"}, {\"from\": \"R-MMU-5576890\", \"title\": \"from O35219 to R-MMU-5576890\", \"to\": \"O35219\"}, {\"from\": \"R-MMU-5576890\", \"title\": \"from P97414 to R-MMU-5576890\", \"to\": \"P97414\"}, {\"from\": \"R-MMU-5576890\", \"title\": \"from Q70FJ1 to R-MMU-5576890\", \"to\": \"Q70FJ1\"}, {\"from\": \"R-MMU-5576890\", \"title\": \"from Q9D808 to R-MMU-5576890\", \"to\": \"Q9D808\"}, {\"from\": \"R-MMU-5576890\", \"title\": \"from Q9QZ26 to R-MMU-5576890\", \"to\": \"Q9QZ26\"}, {\"from\": \"R-MMU-5576890\", \"title\": \"from Q9WTW2 to R-MMU-5576890\", \"to\": \"Q9WTW2\"}, {\"from\": \"R-MMU-5576890\", \"title\": \"from Q9WTW3 to R-MMU-5576890\", \"to\": \"Q9WTW3\"}, {\"from\": \"R-RNO-5576886\", \"title\": \"from D3ZLR9 to R-RNO-5576886\", \"to\": \"D3ZLR9\"}, {\"from\": \"R-RNO-5576886\", \"title\": \"from D4A806 to R-RNO-5576886\", \"to\": \"D4A806\"}, {\"from\": \"R-RNO-5576886\", \"title\": \"from G3V8R8 to R-RNO-5576886\", \"to\": \"G3V8R8\"}, {\"from\": \"R-RNO-5576886\", \"title\": \"from G3V8V5 to R-RNO-5576886\", \"to\": \"G3V8V5\"}, {\"from\": \"R-RNO-5576886\", \"title\": \"from M0R8B9 to R-RNO-5576886\", \"to\": \"M0R8B9\"}, {\"from\": \"R-RNO-5576886\", \"title\": \"from O54912 to R-RNO-5576886\", \"to\": \"O54912\"}, {\"from\": \"R-RNO-5576886\", \"title\": \"from O70596 to R-RNO-5576886\", \"to\": \"O70596\"}, {\"from\": \"R-RNO-5576886\", \"title\": \"from P52188 to R-RNO-5576886\", \"to\": \"P52188\"}, {\"from\": \"R-RNO-5576886\", \"title\": \"from P52190 to R-RNO-5576886\", \"to\": \"P52190\"}, {\"from\": \"R-RNO-5576886\", \"title\": \"from Q64273 to R-RNO-5576886\", \"to\": \"Q64273\"}, {\"from\": \"R-RNO-5576886\", \"title\": \"from Q6Q1P3 to R-RNO-5576886\", \"to\": \"Q6Q1P3\"}, {\"from\": \"R-RNO-5576886\", \"title\": \"from Q8R5I0 to R-RNO-5576886\", \"to\": \"Q8R5I0\"}, {\"from\": \"R-RNO-5576886\", \"title\": \"from Q920B6 to R-RNO-5576886\", \"to\": \"Q920B6\"}, {\"from\": \"R-RNO-5576886\", \"title\": \"from Q9ERS0 to R-RNO-5576886\", \"to\": \"Q9ERS0\"}, {\"from\": \"R-RNO-5576886\", \"title\": \"from Q9ERS1 to R-RNO-5576886\", \"to\": \"Q9ERS1\"}, {\"from\": \"R-RNO-5576886\", \"title\": \"from Q9ES08 to R-RNO-5576886\", \"to\": \"Q9ES08\"}, {\"from\": \"R-RNO-5576886\", \"title\": \"from Q9JIS4 to R-RNO-5576886\", \"to\": \"Q9JIS4\"}, {\"from\": \"R-RNO-5576886\", \"title\": \"from Q9Z2T2 to R-RNO-5576886\", \"to\": \"Q9Z2T2\"}, {\"from\": \"R-HSA-5578775\", \"title\": \"from O00168 to R-HSA-5578775\", \"to\": \"O00168\"}, {\"from\": \"R-HSA-5578775\", \"title\": \"from O00631 to R-HSA-5578775\", \"to\": \"O00631\"}, {\"from\": \"R-HSA-5578775\", \"title\": \"from O14958 to R-HSA-5578775\", \"to\": \"O14958\"}, {\"from\": \"R-HSA-5578775\", \"title\": \"from O14983 to R-HSA-5578775\", \"to\": \"O14983\"}, {\"from\": \"R-HSA-5578775\", \"title\": \"from O15247 to R-HSA-5578775\", \"to\": \"O15247\"}, {\"from\": \"R-HSA-5578775\", \"title\": \"from O43865 to R-HSA-5578775\", \"to\": \"O43865\"}, {\"from\": \"R-HSA-5578775\", \"title\": \"from O60706 to R-HSA-5578775\", \"to\": \"O60706\"}, {\"from\": \"R-HSA-5578775\", \"title\": \"from P05023 to R-HSA-5578775\", \"to\": \"P05023\"}, {\"from\": \"R-HSA-5578775\", \"title\": \"from P05026 to R-HSA-5578775\", \"to\": \"P05026\"}, {\"from\": \"R-HSA-5578775\", \"title\": \"from P0DP23 to R-HSA-5578775\", \"to\": \"P0DP23\"}, {\"from\": \"R-HSA-5578775\", \"title\": \"from P13637 to R-HSA-5578775\", \"to\": \"P13637\"}, {\"from\": \"R-HSA-5578775\", \"title\": \"from P14415 to R-HSA-5578775\", \"to\": \"P14415\"}, {\"from\": \"R-HSA-5578775\", \"title\": \"from P16615 to R-HSA-5578775\", \"to\": \"P16615\"}, {\"from\": \"R-HSA-5578775\", \"title\": \"from P17612 to R-HSA-5578775\", \"to\": \"P17612\"}, {\"from\": \"R-HSA-5578775\", \"title\": \"from P19429 to R-HSA-5578775\", \"to\": \"P19429\"}, {\"from\": \"R-HSA-5578775\", \"title\": \"from P20020 to R-HSA-5578775\", \"to\": \"P20020\"}, {\"from\": \"R-HSA-5578775\", \"title\": \"from P21817 to R-HSA-5578775\", \"to\": \"P21817\"}, {\"from\": \"R-HSA-5578775\", \"title\": \"from P23634 to R-HSA-5578775\", \"to\": \"P23634\"}, {\"from\": \"R-HSA-5578775\", \"title\": \"from P26678 to R-HSA-5578775\", \"to\": \"P26678\"}, {\"from\": \"R-HSA-5578775\", \"title\": \"from P29475 to R-HSA-5578775\", \"to\": \"P29475\"}, {\"from\": \"R-HSA-5578775\", \"title\": \"from P30626 to R-HSA-5578775\", \"to\": \"P30626\"}, {\"from\": \"R-HSA-5578775\", \"title\": \"from P31415 to R-HSA-5578775\", \"to\": \"P31415\"}, {\"from\": \"R-HSA-5578775\", \"title\": \"from P32418 to R-HSA-5578775\", \"to\": \"P32418\"}, {\"from\": \"R-HSA-5578775\", \"title\": \"from P48995 to R-HSA-5578775\", \"to\": \"P48995\"}, {\"from\": \"R-HSA-5578775\", \"title\": \"from P50993 to R-HSA-5578775\", \"to\": \"P50993\"}, {\"from\": \"R-HSA-5578775\", \"title\": \"from P54709 to R-HSA-5578775\", \"to\": \"P54709\"}, {\"from\": \"R-HSA-5578775\", \"title\": \"from P54710 to R-HSA-5578775\", \"to\": \"P54710\"}, {\"from\": \"R-HSA-5578775\", \"title\": \"from P57103 to R-HSA-5578775\", \"to\": \"P57103\"}, {\"from\": \"R-HSA-5578775\", \"title\": \"from P58549 to R-HSA-5578775\", \"to\": \"P58549\"}, {\"from\": \"R-HSA-5578775\", \"title\": \"from P59646 to R-HSA-5578775\", \"to\": \"P59646\"}, {\"from\": \"R-HSA-5578775\", \"title\": \"from P68106 to R-HSA-5578775\", \"to\": \"P68106\"}, {\"from\": \"R-HSA-5578775\", \"title\": \"from Q01814 to R-HSA-5578775\", \"to\": \"Q01814\"}, {\"from\": \"R-HSA-5578775\", \"title\": \"from Q09013 to R-HSA-5578775\", \"to\": \"Q09013\"}, {\"from\": \"R-HSA-5578775\", \"title\": \"from Q12797 to R-HSA-5578775\", \"to\": \"Q12797\"}, {\"from\": \"R-HSA-5578775\", \"title\": \"from Q13061 to R-HSA-5578775\", \"to\": \"Q13061\"}, {\"from\": \"R-HSA-5578775\", \"title\": \"from Q13554 to R-HSA-5578775\", \"to\": \"Q13554\"}, {\"from\": \"R-HSA-5578775\", \"title\": \"from Q13555 to R-HSA-5578775\", \"to\": \"Q13555\"}, {\"from\": \"R-HSA-5578775\", \"title\": \"from Q13557 to R-HSA-5578775\", \"to\": \"Q13557\"}, {\"from\": \"R-HSA-5578775\", \"title\": \"from Q13586 to R-HSA-5578775\", \"to\": \"Q13586\"}, {\"from\": \"R-HSA-5578775\", \"title\": \"from Q13733 to R-HSA-5578775\", \"to\": \"Q13733\"}, {\"from\": \"R-HSA-5578775\", \"title\": \"from Q14571 to R-HSA-5578775\", \"to\": \"Q14571\"}, {\"from\": \"R-HSA-5578775\", \"title\": \"from Q14573 to R-HSA-5578775\", \"to\": \"Q14573\"}, {\"from\": \"R-HSA-5578775\", \"title\": \"from Q14643 to R-HSA-5578775\", \"to\": \"Q14643\"}, {\"from\": \"R-HSA-5578775\", \"title\": \"from Q14654 to R-HSA-5578775\", \"to\": \"Q14654\"}, {\"from\": \"R-HSA-5578775\", \"title\": \"from Q14802 to R-HSA-5578775\", \"to\": \"Q14802\"}, {\"from\": \"R-HSA-5578775\", \"title\": \"from Q15413 to R-HSA-5578775\", \"to\": \"Q15413\"}, {\"from\": \"R-HSA-5578775\", \"title\": \"from Q16720 to R-HSA-5578775\", \"to\": \"Q16720\"}, {\"from\": \"R-HSA-5578775\", \"title\": \"from Q92736 to R-HSA-5578775\", \"to\": \"Q92736\"}, {\"from\": \"R-HSA-5578775\", \"title\": \"from Q93084 to R-HSA-5578775\", \"to\": \"Q93084\"}, {\"from\": \"R-HSA-5578775\", \"title\": \"from Q96D31 to R-HSA-5578775\", \"to\": \"Q96D31\"}, {\"from\": \"R-HSA-5578775\", \"title\": \"from Q96SN7 to R-HSA-5578775\", \"to\": \"Q96SN7\"}, {\"from\": \"R-HSA-5578775\", \"title\": \"from Q9H0Q3 to R-HSA-5578775\", \"to\": \"Q9H0Q3\"}, {\"from\": \"R-HSA-5578775\", \"title\": \"from Q9UPR5 to R-HSA-5578775\", \"to\": \"Q9UPR5\"}, {\"from\": \"R-HSA-5578775\", \"title\": \"from Q9UQM7 to R-HSA-5578775\", \"to\": \"Q9UQM7\"}, {\"from\": \"R-HSA-5576894\", \"title\": \"from Q6PIL6 to R-HSA-5576894\", \"to\": \"Q6PIL6\"}, {\"from\": \"R-HSA-5576894\", \"title\": \"from Q9NS61 to R-HSA-5576894\", \"to\": \"Q9NS61\"}, {\"from\": \"R-HSA-5576894\", \"title\": \"from Q9NSA2 to R-HSA-5576894\", \"to\": \"Q9NSA2\"}, {\"from\": \"R-HSA-5576894\", \"title\": \"from Q9NZI2 to R-HSA-5576894\", \"to\": \"Q9NZI2\"}, {\"from\": \"R-HSA-5576894\", \"title\": \"from Q9NZV8 to R-HSA-5576894\", \"to\": \"Q9NZV8\"}, {\"from\": \"R-HSA-5576894\", \"title\": \"from Q9UK17 to R-HSA-5576894\", \"to\": \"Q9UK17\"}, {\"from\": \"R-HSA-5576894\", \"title\": \"from Q9Y2W7 to R-HSA-5576894\", \"to\": \"Q9Y2W7\"}, {\"from\": \"R-HSA-5576886\", \"title\": \"from O00180 to R-HSA-5576886\", \"to\": \"O00180\"}, {\"from\": \"R-HSA-5576886\", \"title\": \"from O14649 to R-HSA-5576886\", \"to\": \"O14649\"}, {\"from\": \"R-HSA-5576886\", \"title\": \"from O95069 to R-HSA-5576886\", \"to\": \"O95069\"}, {\"from\": \"R-HSA-5576886\", \"title\": \"from O95279 to R-HSA-5576886\", \"to\": \"O95279\"}, {\"from\": \"R-HSA-5576886\", \"title\": \"from P48050 to R-HSA-5576886\", \"to\": \"P48050\"}, {\"from\": \"R-HSA-5576886\", \"title\": \"from P57789 to R-HSA-5576886\", \"to\": \"P57789\"}, {\"from\": \"R-HSA-5576886\", \"title\": \"from P63252 to R-HSA-5576886\", \"to\": \"P63252\"}, {\"from\": \"R-HSA-5576886\", \"title\": \"from Q14500 to R-HSA-5576886\", \"to\": \"Q14500\"}, {\"from\": \"R-HSA-5576886\", \"title\": \"from Q7Z418 to R-HSA-5576886\", \"to\": \"Q7Z418\"}, {\"from\": \"R-HSA-5576886\", \"title\": \"from Q96T54 to R-HSA-5576886\", \"to\": \"Q96T54\"}, {\"from\": \"R-HSA-5576886\", \"title\": \"from Q96T55 to R-HSA-5576886\", \"to\": \"Q96T55\"}, {\"from\": \"R-HSA-5576886\", \"title\": \"from Q9H427 to R-HSA-5576886\", \"to\": \"Q9H427\"}, {\"from\": \"R-HSA-5576886\", \"title\": \"from Q9HB14 to R-HSA-5576886\", \"to\": \"Q9HB14\"}, {\"from\": \"R-HSA-5576886\", \"title\": \"from Q9HB15 to R-HSA-5576886\", \"to\": \"Q9HB15\"}, {\"from\": \"R-HSA-5576886\", \"title\": \"from Q9NPC2 to R-HSA-5576886\", \"to\": \"Q9NPC2\"}, {\"from\": \"R-HSA-5576886\", \"title\": \"from Q9NYG8 to R-HSA-5576886\", \"to\": \"Q9NYG8\"}, {\"from\": \"R-HSA-5576886\", \"title\": \"from Q9UNX9 to R-HSA-5576886\", \"to\": \"Q9UNX9\"}, {\"from\": \"R-HSA-5576886\", \"title\": \"from Q9Y257 to R-HSA-5576886\", \"to\": \"Q9Y257\"}, {\"from\": \"R-HSA-5576886\", \"title\": \"from Q9Y2U2 to R-HSA-5576886\", \"to\": \"Q9Y2U2\"}, {\"from\": \"R-SSC-5576894\", \"title\": \"from A0A286ZW00 to R-SSC-5576894\", \"to\": \"A0A286ZW00\"}, {\"from\": \"R-SSC-5576894\", \"title\": \"from A0A5G2QNS8 to R-SSC-5576894\", \"to\": \"A0A5G2QNS8\"}, {\"from\": \"R-SSC-5576894\", \"title\": \"from A0A5G2QVE3 to R-SSC-5576894\", \"to\": \"A0A5G2QVE3\"}, {\"from\": \"R-SSC-5576894\", \"title\": \"from A0A5G2R345 to R-SSC-5576894\", \"to\": \"A0A5G2R345\"}, {\"from\": \"R-SSC-5576894\", \"title\": \"from F1S8T5 to R-SSC-5576894\", \"to\": \"F1S8T5\"}, {\"from\": \"R-SSC-5576894\", \"title\": \"from F1SBP4 to R-SSC-5576894\", \"to\": \"F1SBP4\"}, {\"from\": \"R-SSC-5576894\", \"title\": \"from F1SU60 to R-SSC-5576894\", \"to\": \"F1SU60\"}, {\"from\": \"R-SSC-5578768\", \"title\": \"from A0A287B4X9 to R-SSC-5578768\", \"to\": \"A0A287B4X9\"}, {\"from\": \"R-SSC-5578768\", \"title\": \"from P18104 to R-SSC-5578768\", \"to\": \"P18104\"}, {\"from\": \"R-MMU-5576893\", \"title\": \"from P62956 to R-MMU-5576893\", \"to\": \"P62956\"}, {\"from\": \"R-MMU-5576893\", \"title\": \"from P97414 to R-MMU-5576893\", \"to\": \"P97414\"}, {\"from\": \"R-MMU-5576893\", \"title\": \"from Q01815 to R-MMU-5576893\", \"to\": \"Q01815\"}, {\"from\": \"R-MMU-5576893\", \"title\": \"from Q6PHS9 to R-MMU-5576893\", \"to\": \"Q6PHS9\"}, {\"from\": \"R-MMU-5576893\", \"title\": \"from Q70FJ1 to R-MMU-5576893\", \"to\": \"Q70FJ1\"}, {\"from\": \"R-MMU-5576893\", \"title\": \"from Q8CC27 to R-MMU-5576893\", \"to\": \"Q8CC27\"}, {\"from\": \"R-MMU-5576893\", \"title\": \"from Q8R3Z5 to R-MMU-5576893\", \"to\": \"Q8R3Z5\"}, {\"from\": \"R-MMU-5576893\", \"title\": \"from Q8VHW2 to R-MMU-5576893\", \"to\": \"Q8VHW2\"}, {\"from\": \"R-MMU-5576893\", \"title\": \"from Q8VHW3 to R-MMU-5576893\", \"to\": \"Q8VHW3\"}, {\"from\": \"R-MMU-5576893\", \"title\": \"from Q9D808 to R-MMU-5576893\", \"to\": \"Q9D808\"}, {\"from\": \"R-MMU-5576893\", \"title\": \"from Q9JJV4 to R-MMU-5576893\", \"to\": \"Q9JJV4\"}, {\"from\": \"R-MMU-5576893\", \"title\": \"from Q9QZ26 to R-MMU-5576893\", \"to\": \"Q9QZ26\"}, {\"from\": \"R-MMU-5576893\", \"title\": \"from Q9WTW2 to R-MMU-5576893\", \"to\": \"Q9WTW2\"}, {\"from\": \"R-MMU-5576893\", \"title\": \"from Q9WTW3 to R-MMU-5576893\", \"to\": \"Q9WTW3\"}, {\"from\": \"R-HSA-5576890\", \"title\": \"from P15382 to R-HSA-5576890\", \"to\": \"P15382\"}, {\"from\": \"R-HSA-5576890\", \"title\": \"from P51787 to R-HSA-5576890\", \"to\": \"P51787\"}, {\"from\": \"R-HSA-5576890\", \"title\": \"from Q12809 to R-HSA-5576890\", \"to\": \"Q12809\"}, {\"from\": \"R-HSA-5576890\", \"title\": \"from Q8WWG9 to R-HSA-5576890\", \"to\": \"Q8WWG9\"}, {\"from\": \"R-HSA-5576890\", \"title\": \"from Q99996 to R-HSA-5576890\", \"to\": \"Q99996\"}, {\"from\": \"R-HSA-5576890\", \"title\": \"from Q9UJ90 to R-HSA-5576890\", \"to\": \"Q9UJ90\"}, {\"from\": \"R-HSA-5576890\", \"title\": \"from Q9Y6H6 to R-HSA-5576890\", \"to\": \"Q9Y6H6\"}, {\"from\": \"R-HSA-5576890\", \"title\": \"from Q9Y6J6 to R-HSA-5576890\", \"to\": \"Q9Y6J6\"}, {\"from\": \"R-MMU-5576892\", \"title\": \"from A2APX8 to R-MMU-5576892\", \"to\": \"A2APX8\"}, {\"from\": \"R-MMU-5576892\", \"title\": \"from A2ASI5 to R-MMU-5576892\", \"to\": \"A2ASI5\"}, {\"from\": \"R-MMU-5576892\", \"title\": \"from B1AWN6 to R-MMU-5576892\", \"to\": \"B1AWN6\"}, {\"from\": \"R-MMU-5576892\", \"title\": \"from B1AYL1 to R-MMU-5576892\", \"to\": \"B1AYL1\"}, {\"from\": \"R-MMU-5576892\", \"title\": \"from P0DP26 to R-MMU-5576892\", \"to\": \"P0DP26\"}, {\"from\": \"R-MMU-5576892\", \"title\": \"from P11798 to R-MMU-5576892\", \"to\": \"P11798\"}, {\"from\": \"R-MMU-5576892\", \"title\": \"from P28652 to R-MMU-5576892\", \"to\": \"P28652\"}, {\"from\": \"R-MMU-5576892\", \"title\": \"from P61329 to R-MMU-5576892\", \"to\": \"P61329\"}, {\"from\": \"R-MMU-5576892\", \"title\": \"from P62956 to R-MMU-5576892\", \"to\": \"P62956\"}, {\"from\": \"R-MMU-5576892\", \"title\": \"from P70377 to R-MMU-5576892\", \"to\": \"P70377\"}, {\"from\": \"R-MMU-5576892\", \"title\": \"from P70378 to R-MMU-5576892\", \"to\": \"P70378\"}, {\"from\": \"R-MMU-5576892\", \"title\": \"from P70379 to R-MMU-5576892\", \"to\": \"P70379\"}, {\"from\": \"R-MMU-5576892\", \"title\": \"from P97952 to R-MMU-5576892\", \"to\": \"P97952\"}, {\"from\": \"R-MMU-5576892\", \"title\": \"from Q01815 to R-MMU-5576892\", \"to\": \"Q01815\"}, {\"from\": \"R-MMU-5576892\", \"title\": \"from Q56A07 to R-MMU-5576892\", \"to\": \"Q56A07\"}, {\"from\": \"R-MMU-5576892\", \"title\": \"from Q62205 to R-MMU-5576892\", \"to\": \"Q62205\"}, {\"from\": \"R-MMU-5576892\", \"title\": \"from Q6PHS9 to R-MMU-5576892\", \"to\": \"Q6PHS9\"}, {\"from\": \"R-MMU-5576892\", \"title\": \"from Q6PHZ2 to R-MMU-5576892\", \"to\": \"Q6PHZ2\"}, {\"from\": \"R-MMU-5576892\", \"title\": \"from Q6QIY3 to R-MMU-5576892\", \"to\": \"Q6QIY3\"}, {\"from\": \"R-MMU-5576892\", \"title\": \"from Q7M729 to R-MMU-5576892\", \"to\": \"Q7M729\"}, {\"from\": \"R-MMU-5576892\", \"title\": \"from Q8BHK2 to R-MMU-5576892\", \"to\": \"Q8BHK2\"}, {\"from\": \"R-MMU-5576892\", \"title\": \"from Q8CC27 to R-MMU-5576892\", \"to\": \"Q8CC27\"}, {\"from\": \"R-MMU-5576892\", \"title\": \"from Q8R3Z5 to R-MMU-5576892\", \"to\": \"Q8R3Z5\"}, {\"from\": \"R-MMU-5576892\", \"title\": \"from Q8VHW2 to R-MMU-5576892\", \"to\": \"Q8VHW2\"}, {\"from\": \"R-MMU-5576892\", \"title\": \"from Q8VHW3 to R-MMU-5576892\", \"to\": \"Q8VHW3\"}, {\"from\": \"R-MMU-5576892\", \"title\": \"from Q923T9 to R-MMU-5576892\", \"to\": \"Q923T9\"}, {\"from\": \"R-MMU-5576892\", \"title\": \"from Q9ER60 to R-MMU-5576892\", \"to\": \"Q9ER60\"}, {\"from\": \"R-MMU-5576892\", \"title\": \"from Q9JIB0 to R-MMU-5576892\", \"to\": \"Q9JIB0\"}, {\"from\": \"R-MMU-5576892\", \"title\": \"from Q9JJV4 to R-MMU-5576892\", \"to\": \"Q9JJV4\"}, {\"from\": \"R-MMU-5576892\", \"title\": \"from Q9JJV9 to R-MMU-5576892\", \"to\": \"Q9JJV9\"}, {\"from\": \"R-MMU-5576892\", \"title\": \"from Q9R053 to R-MMU-5576892\", \"to\": \"Q9R053\"}, {\"from\": \"R-MMU-5576892\", \"title\": \"from Q9WTU3 to R-MMU-5576892\", \"to\": \"Q9WTU3\"}, {\"from\": \"R-RNO-5576890\", \"title\": \"from A0A0G2K548 to R-RNO-5576890\", \"to\": \"A0A0G2K548\"}, {\"from\": \"R-RNO-5576890\", \"title\": \"from A5HKJ1 to R-RNO-5576890\", \"to\": \"A5HKJ1\"}, {\"from\": \"R-RNO-5576890\", \"title\": \"from O08962 to R-RNO-5576890\", \"to\": \"O08962\"}, {\"from\": \"R-RNO-5576890\", \"title\": \"from P63161 to R-RNO-5576890\", \"to\": \"P63161\"}, {\"from\": \"R-RNO-5576890\", \"title\": \"from Q71FD8 to R-RNO-5576890\", \"to\": \"Q71FD8\"}, {\"from\": \"R-RNO-5576890\", \"title\": \"from Q9JJV7 to R-RNO-5576890\", \"to\": \"Q9JJV7\"}, {\"from\": \"R-RNO-5576890\", \"title\": \"from Q9Z0N7 to R-RNO-5576890\", \"to\": \"Q9Z0N7\"}, {\"from\": \"R-SSC-5576886\", \"title\": \"from A0A286ZMZ4 to R-SSC-5576886\", \"to\": \"A0A286ZMZ4\"}, {\"from\": \"R-SSC-5576886\", \"title\": \"from A0A286ZYJ4 to R-SSC-5576886\", \"to\": \"A0A286ZYJ4\"}, {\"from\": \"R-SSC-5576886\", \"title\": \"from A0A287A5K0 to R-SSC-5576886\", \"to\": \"A0A287A5K0\"}, {\"from\": \"R-SSC-5576886\", \"title\": \"from A0A287A685 to R-SSC-5576886\", \"to\": \"A0A287A685\"}, {\"from\": \"R-SSC-5576886\", \"title\": \"from A0A287AIG4 to R-SSC-5576886\", \"to\": \"A0A287AIG4\"}, {\"from\": \"R-SSC-5576886\", \"title\": \"from A0A287AWU0 to R-SSC-5576886\", \"to\": \"A0A287AWU0\"}, {\"from\": \"R-SSC-5576886\", \"title\": \"from A0A287B0A6 to R-SSC-5576886\", \"to\": \"A0A287B0A6\"}, {\"from\": \"R-SSC-5576886\", \"title\": \"from F1RGV1 to R-SSC-5576886\", \"to\": \"F1RGV1\"}, {\"from\": \"R-SSC-5576886\", \"title\": \"from F1RL84 to R-SSC-5576886\", \"to\": \"F1RL84\"}, {\"from\": \"R-SSC-5576886\", \"title\": \"from F1RQN9 to R-SSC-5576886\", \"to\": \"F1RQN9\"}, {\"from\": \"R-SSC-5576886\", \"title\": \"from F1RRI8 to R-SSC-5576886\", \"to\": \"F1RRI8\"}, {\"from\": \"R-SSC-5576886\", \"title\": \"from F1RVQ8 to R-SSC-5576886\", \"to\": \"F1RVQ8\"}, {\"from\": \"R-SSC-5576886\", \"title\": \"from F1RVQ9 to R-SSC-5576886\", \"to\": \"F1RVQ9\"}, {\"from\": \"R-SSC-5576886\", \"title\": \"from F1SDA6 to R-SSC-5576886\", \"to\": \"F1SDA6\"}, {\"from\": \"R-SSC-5576886\", \"title\": \"from F1SDS1 to R-SSC-5576886\", \"to\": \"F1SDS1\"}, {\"from\": \"R-SSC-5576886\", \"title\": \"from F1SKP8 to R-SSC-5576886\", \"to\": \"F1SKP8\"}, {\"from\": \"R-SSC-5576886\", \"title\": \"from F1SQH8 to R-SSC-5576886\", \"to\": \"F1SQH8\"}, {\"from\": \"R-MMU-5576886\", \"title\": \"from B2RVL1 to R-MMU-5576886\", \"to\": \"B2RVL1\"}, {\"from\": \"R-MMU-5576886\", \"title\": \"from G5E845 to R-MMU-5576886\", \"to\": \"G5E845\"}, {\"from\": \"R-MMU-5576886\", \"title\": \"from O08581 to R-MMU-5576886\", \"to\": \"O08581\"}, {\"from\": \"R-MMU-5576886\", \"title\": \"from O35111 to R-MMU-5576886\", \"to\": \"O35111\"}, {\"from\": \"R-MMU-5576886\", \"title\": \"from O88454 to R-MMU-5576886\", \"to\": \"O88454\"}, {\"from\": \"R-MMU-5576886\", \"title\": \"from P35561 to R-MMU-5576886\", \"to\": \"P35561\"}, {\"from\": \"R-MMU-5576886\", \"title\": \"from P52187 to R-MMU-5576886\", \"to\": \"P52187\"}, {\"from\": \"R-MMU-5576886\", \"title\": \"from P52189 to R-MMU-5576886\", \"to\": \"P52189\"}, {\"from\": \"R-MMU-5576886\", \"title\": \"from P97438 to R-MMU-5576886\", \"to\": \"P97438\"}, {\"from\": \"R-MMU-5576886\", \"title\": \"from Q3LS21 to R-MMU-5576886\", \"to\": \"Q3LS21\"}, {\"from\": \"R-MMU-5576886\", \"title\": \"from Q3TBV4 to R-MMU-5576886\", \"to\": \"Q3TBV4\"}, {\"from\": \"R-MMU-5576886\", \"title\": \"from Q6VV64 to R-MMU-5576886\", \"to\": \"Q6VV64\"}, {\"from\": \"R-MMU-5576886\", \"title\": \"from Q76M80 to R-MMU-5576886\", \"to\": \"Q76M80\"}, {\"from\": \"R-MMU-5576886\", \"title\": \"from Q8BUW1 to R-MMU-5576886\", \"to\": \"Q8BUW1\"}, {\"from\": \"R-MMU-5576886\", \"title\": \"from Q8JZN3 to R-MMU-5576886\", \"to\": \"Q8JZN3\"}, {\"from\": \"R-MMU-5576886\", \"title\": \"from Q8R1P5 to R-MMU-5576886\", \"to\": \"Q8R1P5\"}, {\"from\": \"R-MMU-5576886\", \"title\": \"from Q9JK62 to R-MMU-5576886\", \"to\": \"Q9JK62\"}, {\"from\": \"R-MMU-5576886\", \"title\": \"from Q9Z2T1 to R-MMU-5576886\", \"to\": \"Q9Z2T1\"}, {\"from\": \"R-RNO-5576892\", \"title\": \"from D3ZMP9 to R-RNO-5576892\", \"to\": \"D3ZMP9\"}, {\"from\": \"R-RNO-5576892\", \"title\": \"from F1LQQ7 to R-RNO-5576892\", \"to\": \"F1LQQ7\"}, {\"from\": \"R-RNO-5576892\", \"title\": \"from G3V7X1 to R-RNO-5576892\", \"to\": \"G3V7X1\"}, {\"from\": \"R-RNO-5576892\", \"title\": \"from O08562 to R-RNO-5576892\", \"to\": \"O08562\"}, {\"from\": \"R-RNO-5576892\", \"title\": \"from O88420 to R-RNO-5576892\", \"to\": \"O88420\"}, {\"from\": \"R-RNO-5576892\", \"title\": \"from O88457 to R-RNO-5576892\", \"to\": \"O88457\"}, {\"from\": \"R-RNO-5576892\", \"title\": \"from P04774 to R-RNO-5576892\", \"to\": \"P04774\"}, {\"from\": \"R-RNO-5576892\", \"title\": \"from P04775 to R-RNO-5576892\", \"to\": \"P04775\"}, {\"from\": \"R-RNO-5576892\", \"title\": \"from P08104 to R-RNO-5576892\", \"to\": \"P08104\"}, {\"from\": \"R-RNO-5576892\", \"title\": \"from P08413 to R-RNO-5576892\", \"to\": \"P08413\"}, {\"from\": \"R-RNO-5576892\", \"title\": \"from P0DP31 to R-RNO-5576892\", \"to\": \"P0DP31\"}, {\"from\": \"R-RNO-5576892\", \"title\": \"from P11275 to R-RNO-5576892\", \"to\": \"P11275\"}, {\"from\": \"R-RNO-5576892\", \"title\": \"from P11730 to R-RNO-5576892\", \"to\": \"P11730\"}, {\"from\": \"R-RNO-5576892\", \"title\": \"from P15389 to R-RNO-5576892\", \"to\": \"P15389\"}, {\"from\": \"R-RNO-5576892\", \"title\": \"from P15390 to R-RNO-5576892\", \"to\": \"P15390\"}, {\"from\": \"R-RNO-5576892\", \"title\": \"from P15791 to R-RNO-5576892\", \"to\": \"P15791\"}, {\"from\": \"R-RNO-5576892\", \"title\": \"from P22002 to R-RNO-5576892\", \"to\": \"P22002\"}, {\"from\": \"R-RNO-5576892\", \"title\": \"from P54283 to R-RNO-5576892\", \"to\": \"P54283\"}, {\"from\": \"R-RNO-5576892\", \"title\": \"from P54900 to R-RNO-5576892\", \"to\": \"P54900\"}, {\"from\": \"R-RNO-5576892\", \"title\": \"from P61150 to R-RNO-5576892\", \"to\": \"P61150\"}, {\"from\": \"R-RNO-5576892\", \"title\": \"from P62957 to R-RNO-5576892\", \"to\": \"P62957\"}, {\"from\": \"R-RNO-5576892\", \"title\": \"from Q00954 to R-RNO-5576892\", \"to\": \"Q00954\"}, {\"from\": \"R-RNO-5576892\", \"title\": \"from Q62968 to R-RNO-5576892\", \"to\": \"Q62968\"}, {\"from\": \"R-RNO-5576892\", \"title\": \"from Q7M730 to R-RNO-5576892\", \"to\": \"Q7M730\"}, {\"from\": \"R-RNO-5576892\", \"title\": \"from Q8CFG6 to R-RNO-5576892\", \"to\": \"Q8CFG6\"}, {\"from\": \"R-RNO-5576892\", \"title\": \"from Q8R5L7 to R-RNO-5576892\", \"to\": \"Q8R5L7\"}, {\"from\": \"R-RNO-5576892\", \"title\": \"from Q8VGC3 to R-RNO-5576892\", \"to\": \"Q8VGC3\"}, {\"from\": \"R-RNO-5576892\", \"title\": \"from Q8VHW5 to R-RNO-5576892\", \"to\": \"Q8VHW5\"}, {\"from\": \"R-RNO-5576892\", \"title\": \"from Q8VHW7 to R-RNO-5576892\", \"to\": \"Q8VHW7\"}, {\"from\": \"R-RNO-5576892\", \"title\": \"from Q8VHW9 to R-RNO-5576892\", \"to\": \"Q8VHW9\"}, {\"from\": \"R-RNO-5576892\", \"title\": \"from Q9ERW3 to R-RNO-5576892\", \"to\": \"Q9ERW3\"}, {\"from\": \"R-RNO-5576892\", \"title\": \"from Q9JK00 to R-RNO-5576892\", \"to\": \"Q9JK00\"}, {\"from\": \"R-HSA-5576892\", \"title\": \"from O60939 to R-HSA-5576892\", \"to\": \"O60939\"}, {\"from\": \"R-HSA-5576892\", \"title\": \"from P0DP23 to R-HSA-5576892\", \"to\": \"P0DP23\"}, {\"from\": \"R-HSA-5576892\", \"title\": \"from P35498 to R-HSA-5576892\", \"to\": \"P35498\"}, {\"from\": \"R-HSA-5576892\", \"title\": \"from P35499 to R-HSA-5576892\", \"to\": \"P35499\"}, {\"from\": \"R-HSA-5576892\", \"title\": \"from P61328 to R-HSA-5576892\", \"to\": \"P61328\"}, {\"from\": \"R-HSA-5576892\", \"title\": \"from P62955 to R-HSA-5576892\", \"to\": \"P62955\"}, {\"from\": \"R-HSA-5576892\", \"title\": \"from Q01118 to R-HSA-5576892\", \"to\": \"Q01118\"}, {\"from\": \"R-HSA-5576892\", \"title\": \"from Q02641 to R-HSA-5576892\", \"to\": \"Q02641\"}, {\"from\": \"R-HSA-5576892\", \"title\": \"from Q07699 to R-HSA-5576892\", \"to\": \"Q07699\"}, {\"from\": \"R-HSA-5576892\", \"title\": \"from Q08289 to R-HSA-5576892\", \"to\": \"Q08289\"}, {\"from\": \"R-HSA-5576892\", \"title\": \"from Q13554 to R-HSA-5576892\", \"to\": \"Q13554\"}, {\"from\": \"R-HSA-5576892\", \"title\": \"from Q13555 to R-HSA-5576892\", \"to\": \"Q13555\"}, {\"from\": \"R-HSA-5576892\", \"title\": \"from Q13557 to R-HSA-5576892\", \"to\": \"Q13557\"}, {\"from\": \"R-HSA-5576892\", \"title\": \"from Q13936 to R-HSA-5576892\", \"to\": \"Q13936\"}, {\"from\": \"R-HSA-5576892\", \"title\": \"from Q14524 to R-HSA-5576892\", \"to\": \"Q14524\"}, {\"from\": \"R-HSA-5576892\", \"title\": \"from Q15858 to R-HSA-5576892\", \"to\": \"Q15858\"}, {\"from\": \"R-HSA-5576892\", \"title\": \"from Q8IWT1 to R-HSA-5576892\", \"to\": \"Q8IWT1\"}, {\"from\": \"R-HSA-5576892\", \"title\": \"from Q8WXS5 to R-HSA-5576892\", \"to\": \"Q8WXS5\"}, {\"from\": \"R-HSA-5576892\", \"title\": \"from Q92913 to R-HSA-5576892\", \"to\": \"Q92913\"}, {\"from\": \"R-HSA-5576892\", \"title\": \"from Q92914 to R-HSA-5576892\", \"to\": \"Q92914\"}, {\"from\": \"R-HSA-5576892\", \"title\": \"from Q92915 to R-HSA-5576892\", \"to\": \"Q92915\"}, {\"from\": \"R-HSA-5576892\", \"title\": \"from Q99250 to R-HSA-5576892\", \"to\": \"Q99250\"}, {\"from\": \"R-HSA-5576892\", \"title\": \"from Q9BXT2 to R-HSA-5576892\", \"to\": \"Q9BXT2\"}, {\"from\": \"R-HSA-5576892\", \"title\": \"from Q9HD47 to R-HSA-5576892\", \"to\": \"Q9HD47\"}, {\"from\": \"R-HSA-5576892\", \"title\": \"from Q9NY46 to R-HSA-5576892\", \"to\": \"Q9NY46\"}, {\"from\": \"R-HSA-5576892\", \"title\": \"from Q9NY47 to R-HSA-5576892\", \"to\": \"Q9NY47\"}, {\"from\": \"R-HSA-5576892\", \"title\": \"from Q9NY72 to R-HSA-5576892\", \"to\": \"Q9NY72\"}, {\"from\": \"R-HSA-5576892\", \"title\": \"from Q9UBN1 to R-HSA-5576892\", \"to\": \"Q9UBN1\"}, {\"from\": \"R-HSA-5576892\", \"title\": \"from Q9UI33 to R-HSA-5576892\", \"to\": \"Q9UI33\"}, {\"from\": \"R-HSA-5576892\", \"title\": \"from Q9UQD0 to R-HSA-5576892\", \"to\": \"Q9UQD0\"}, {\"from\": \"R-HSA-5576892\", \"title\": \"from Q9UQM7 to R-HSA-5576892\", \"to\": \"Q9UQM7\"}, {\"from\": \"R-HSA-5576892\", \"title\": \"from Q9Y5Y9 to R-HSA-5576892\", \"to\": \"Q9Y5Y9\"}, {\"from\": \"R-RNO-5576893\", \"title\": \"from A0A0G2K548 to R-RNO-5576893\", \"to\": \"A0A0G2K548\"}, {\"from\": \"R-RNO-5576893\", \"title\": \"from A5HKJ1 to R-RNO-5576893\", \"to\": \"A5HKJ1\"}, {\"from\": \"R-RNO-5576893\", \"title\": \"from P22002 to R-RNO-5576893\", \"to\": \"P22002\"}, {\"from\": \"R-RNO-5576893\", \"title\": \"from P54283 to R-RNO-5576893\", \"to\": \"P54283\"}, {\"from\": \"R-RNO-5576893\", \"title\": \"from P62957 to R-RNO-5576893\", \"to\": \"P62957\"}, {\"from\": \"R-RNO-5576893\", \"title\": \"from P63161 to R-RNO-5576893\", \"to\": \"P63161\"}, {\"from\": \"R-RNO-5576893\", \"title\": \"from Q71FD8 to R-RNO-5576893\", \"to\": \"Q71FD8\"}, {\"from\": \"R-RNO-5576893\", \"title\": \"from Q8CFG6 to R-RNO-5576893\", \"to\": \"Q8CFG6\"}, {\"from\": \"R-RNO-5576893\", \"title\": \"from Q8VGC3 to R-RNO-5576893\", \"to\": \"Q8VGC3\"}, {\"from\": \"R-RNO-5576893\", \"title\": \"from Q8VHW5 to R-RNO-5576893\", \"to\": \"Q8VHW5\"}, {\"from\": \"R-RNO-5576893\", \"title\": \"from Q8VHW7 to R-RNO-5576893\", \"to\": \"Q8VHW7\"}, {\"from\": \"R-RNO-5576893\", \"title\": \"from Q8VHW9 to R-RNO-5576893\", \"to\": \"Q8VHW9\"}, {\"from\": \"R-RNO-5576893\", \"title\": \"from Q9JJV7 to R-RNO-5576893\", \"to\": \"Q9JJV7\"}, {\"from\": \"R-RNO-5576893\", \"title\": \"from Q9Z0N7 to R-RNO-5576893\", \"to\": \"Q9Z0N7\"}, {\"from\": \"R-SSC-5578775\", \"title\": \"from A0A286ZK85 to R-SSC-5578775\", \"to\": \"A0A286ZK85\"}, {\"from\": \"R-SSC-5578775\", \"title\": \"from A0A286ZRK2 to R-SSC-5578775\", \"to\": \"A0A286ZRK2\"}, {\"from\": \"R-SSC-5578775\", \"title\": \"from A0A287A4L1 to R-SSC-5578775\", \"to\": \"A0A287A4L1\"}, {\"from\": \"R-SSC-5578775\", \"title\": \"from A0A287A6K5 to R-SSC-5578775\", \"to\": \"A0A287A6K5\"}, {\"from\": \"R-SSC-5578775\", \"title\": \"from A0A287AC87 to R-SSC-5578775\", \"to\": \"A0A287AC87\"}, {\"from\": \"R-SSC-5578775\", \"title\": \"from A0A287AL21 to R-SSC-5578775\", \"to\": \"A0A287AL21\"}, {\"from\": \"R-SSC-5578775\", \"title\": \"from A0A287APC7 to R-SSC-5578775\", \"to\": \"A0A287APC7\"}, {\"from\": \"R-SSC-5578775\", \"title\": \"from A0A287AT82 to R-SSC-5578775\", \"to\": \"A0A287AT82\"}, {\"from\": \"R-SSC-5578775\", \"title\": \"from A0A287BAN5 to R-SSC-5578775\", \"to\": \"A0A287BAN5\"}, {\"from\": \"R-SSC-5578775\", \"title\": \"from A0A287BCC5 to R-SSC-5578775\", \"to\": \"A0A287BCC5\"}, {\"from\": \"R-SSC-5578775\", \"title\": \"from A0A287BCG8 to R-SSC-5578775\", \"to\": \"A0A287BCG8\"}, {\"from\": \"R-SSC-5578775\", \"title\": \"from A0A287BE30 to R-SSC-5578775\", \"to\": \"A0A287BE30\"}, {\"from\": \"R-SSC-5578775\", \"title\": \"from A0A287BKF3 to R-SSC-5578775\", \"to\": \"A0A287BKF3\"}, {\"from\": \"R-SSC-5578775\", \"title\": \"from A0A287BL11 to R-SSC-5578775\", \"to\": \"A0A287BL11\"}, {\"from\": \"R-SSC-5578775\", \"title\": \"from A0A287BMZ2 to R-SSC-5578775\", \"to\": \"A0A287BMZ2\"}, {\"from\": \"R-SSC-5578775\", \"title\": \"from A0A287BNT0 to R-SSC-5578775\", \"to\": \"A0A287BNT0\"}, {\"from\": \"R-SSC-5578775\", \"title\": \"from A0A5G2QCH2 to R-SSC-5578775\", \"to\": \"A0A5G2QCH2\"}, {\"from\": \"R-SSC-5578775\", \"title\": \"from A0A5G2QCQ9 to R-SSC-5578775\", \"to\": \"A0A5G2QCQ9\"}, {\"from\": \"R-SSC-5578775\", \"title\": \"from A0A5G2QQD2 to R-SSC-5578775\", \"to\": \"A0A5G2QQD2\"}, {\"from\": \"R-SSC-5578775\", \"title\": \"from A0A5G2QQF7 to R-SSC-5578775\", \"to\": \"A0A5G2QQF7\"}, {\"from\": \"R-SSC-5578775\", \"title\": \"from A0A5G2QVM5 to R-SSC-5578775\", \"to\": \"A0A5G2QVM5\"}, {\"from\": \"R-SSC-5578775\", \"title\": \"from A0A5G2QZV9 to R-SSC-5578775\", \"to\": \"A0A5G2QZV9\"}, {\"from\": \"R-SSC-5578775\", \"title\": \"from A0A5G2R1W3 to R-SSC-5578775\", \"to\": \"A0A5G2R1W3\"}, {\"from\": \"R-SSC-5578775\", \"title\": \"from A0A5G2R3M0 to R-SSC-5578775\", \"to\": \"A0A5G2R3M0\"}, {\"from\": \"R-SSC-5578775\", \"title\": \"from A0A5K1VCX5 to R-SSC-5578775\", \"to\": \"A0A5K1VCX5\"}, {\"from\": \"R-SSC-5578775\", \"title\": \"from D2WKD8 to R-SSC-5578775\", \"to\": \"D2WKD8\"}, {\"from\": \"R-SSC-5578775\", \"title\": \"from E7EI18 to R-SSC-5578775\", \"to\": \"E7EI18\"}, {\"from\": \"R-SSC-5578775\", \"title\": \"from F1RJW7 to R-SSC-5578775\", \"to\": \"F1RJW7\"}, {\"from\": \"R-SSC-5578775\", \"title\": \"from F1RL74 to R-SSC-5578775\", \"to\": \"F1RL74\"}, {\"from\": \"R-SSC-5578775\", \"title\": \"from F1S145 to R-SSC-5578775\", \"to\": \"F1S145\"}, {\"from\": \"R-SSC-5578775\", \"title\": \"from F1S340 to R-SSC-5578775\", \"to\": \"F1S340\"}, {\"from\": \"R-SSC-5578775\", \"title\": \"from F1SAM6 to R-SSC-5578775\", \"to\": \"F1SAM6\"}, {\"from\": \"R-SSC-5578775\", \"title\": \"from F1SQA7 to R-SSC-5578775\", \"to\": \"F1SQA7\"}, {\"from\": \"R-SSC-5578775\", \"title\": \"from F1ST41 to R-SSC-5578775\", \"to\": \"F1ST41\"}, {\"from\": \"R-SSC-5578775\", \"title\": \"from F2Z5F0 to R-SSC-5578775\", \"to\": \"F2Z5F0\"}, {\"from\": \"R-SSC-5578775\", \"title\": \"from I3L8L8 to R-SSC-5578775\", \"to\": \"I3L8L8\"}, {\"from\": \"R-SSC-5578775\", \"title\": \"from P11607 to R-SSC-5578775\", \"to\": \"P11607\"}, {\"from\": \"R-SSC-5578775\", \"title\": \"from P61013 to R-SSC-5578775\", \"to\": \"P61013\"}, {\"from\": \"R-SSC-5578775\", \"title\": \"from Q95266 to R-SSC-5578775\", \"to\": \"Q95266\"}, {\"from\": \"R-HSA-5576893\", \"title\": \"from P15382 to R-HSA-5576893\", \"to\": \"P15382\"}, {\"from\": \"R-HSA-5576893\", \"title\": \"from P51787 to R-HSA-5576893\", \"to\": \"P51787\"}, {\"from\": \"R-HSA-5576893\", \"title\": \"from P62955 to R-HSA-5576893\", \"to\": \"P62955\"}, {\"from\": \"R-HSA-5576893\", \"title\": \"from Q02641 to R-HSA-5576893\", \"to\": \"Q02641\"}, {\"from\": \"R-HSA-5576893\", \"title\": \"from Q08289 to R-HSA-5576893\", \"to\": \"Q08289\"}, {\"from\": \"R-HSA-5576893\", \"title\": \"from Q13936 to R-HSA-5576893\", \"to\": \"Q13936\"}, {\"from\": \"R-HSA-5576893\", \"title\": \"from Q8WWG9 to R-HSA-5576893\", \"to\": \"Q8WWG9\"}, {\"from\": \"R-HSA-5576893\", \"title\": \"from Q8WXS5 to R-HSA-5576893\", \"to\": \"Q8WXS5\"}, {\"from\": \"R-HSA-5576893\", \"title\": \"from Q99996 to R-HSA-5576893\", \"to\": \"Q99996\"}, {\"from\": \"R-HSA-5576893\", \"title\": \"from Q9BXT2 to R-HSA-5576893\", \"to\": \"Q9BXT2\"}, {\"from\": \"R-HSA-5576893\", \"title\": \"from Q9NY47 to R-HSA-5576893\", \"to\": \"Q9NY47\"}, {\"from\": \"R-HSA-5576893\", \"title\": \"from Q9UBN1 to R-HSA-5576893\", \"to\": \"Q9UBN1\"}, {\"from\": \"R-HSA-5576893\", \"title\": \"from Q9UJ90 to R-HSA-5576893\", \"to\": \"Q9UJ90\"}, {\"from\": \"R-HSA-5576893\", \"title\": \"from Q9Y6H6 to R-HSA-5576893\", \"to\": \"Q9Y6H6\"}, {\"from\": \"R-HSA-5576893\", \"title\": \"from Q9Y6J6 to R-HSA-5576893\", \"to\": \"Q9Y6J6\"}, {\"from\": \"R-MMU-5578775\", \"title\": \"R-MMU-5578775 is connected to R-MMU-5578775\", \"to\": \"R-MMU-5578775\"}, {\"from\": \"R-MMU-5578775\", \"title\": \"R-MMU-5578775 is connected to R-RNO-5578775\", \"to\": \"R-RNO-5578775\"}, {\"from\": \"R-MMU-5578775\", \"title\": \"R-MMU-5578775 is connected to R-HSA-5578775\", \"to\": \"R-HSA-5578775\"}, {\"from\": \"R-MMU-5578775\", \"title\": \"R-MMU-5578775 is connected to R-SSC-5578775\", \"to\": \"R-SSC-5578775\"}, {\"from\": \"R-SSC-5576893\", \"title\": \"R-SSC-5576893 is connected to R-SSC-5576893\", \"to\": \"R-SSC-5576893\"}, {\"from\": \"R-SSC-5576893\", \"title\": \"R-SSC-5576893 is connected to R-MMU-5576893\", \"to\": \"R-MMU-5576893\"}, {\"from\": \"R-SSC-5576893\", \"title\": \"R-SSC-5576893 is connected to R-RNO-5576893\", \"to\": \"R-RNO-5576893\"}, {\"from\": \"R-SSC-5576893\", \"title\": \"R-SSC-5576893 is connected to R-HSA-5576893\", \"to\": \"R-HSA-5576893\"}, {\"from\": \"R-HSA-5578768\", \"title\": \"R-HSA-5578768 is connected to R-HSA-5578768\", \"to\": \"R-HSA-5578768\"}, {\"from\": \"R-HSA-5578768\", \"title\": \"R-HSA-5578768 is connected to R-MMU-5578768\", \"to\": \"R-MMU-5578768\"}, {\"from\": \"R-HSA-5578768\", \"title\": \"R-HSA-5578768 is connected to R-RNO-5578768\", \"to\": \"R-RNO-5578768\"}, {\"from\": \"R-HSA-5578768\", \"title\": \"R-HSA-5578768 is connected to R-SSC-5578768\", \"to\": \"R-SSC-5578768\"}, {\"from\": \"R-MMU-5578768\", \"title\": \"R-MMU-5578768 is connected to R-MMU-5578768\", \"to\": \"R-MMU-5578768\"}, {\"from\": \"R-MMU-5578768\", \"title\": \"R-MMU-5578768 is connected to R-RNO-5578768\", \"to\": \"R-RNO-5578768\"}, {\"from\": \"R-MMU-5578768\", \"title\": \"R-MMU-5578768 is connected to R-SSC-5578768\", \"to\": \"R-SSC-5578768\"}, {\"from\": \"R-MMU-5576894\", \"title\": \"R-MMU-5576894 is connected to R-MMU-5576894\", \"to\": \"R-MMU-5576894\"}, {\"from\": \"R-MMU-5576894\", \"title\": \"R-MMU-5576894 is connected to R-RNO-5576894\", \"to\": \"R-RNO-5576894\"}, {\"from\": \"R-MMU-5576894\", \"title\": \"R-MMU-5576894 is connected to R-HSA-5576894\", \"to\": \"R-HSA-5576894\"}, {\"from\": \"R-MMU-5576894\", \"title\": \"R-MMU-5576894 is connected to R-SSC-5576894\", \"to\": \"R-SSC-5576894\"}, {\"from\": \"R-SSC-5576892\", \"title\": \"R-SSC-5576892 is connected to R-SSC-5576892\", \"to\": \"R-SSC-5576892\"}, {\"from\": \"R-SSC-5576892\", \"title\": \"R-SSC-5576892 is connected to R-MMU-5576892\", \"to\": \"R-MMU-5576892\"}, {\"from\": \"R-SSC-5576892\", \"title\": \"R-SSC-5576892 is connected to R-RNO-5576892\", \"to\": \"R-RNO-5576892\"}, {\"from\": \"R-SSC-5576892\", \"title\": \"R-SSC-5576892 is connected to R-HSA-5576892\", \"to\": \"R-HSA-5576892\"}, {\"from\": \"R-RNO-5576894\", \"title\": \"R-RNO-5576894 is connected to R-RNO-5576894\", \"to\": \"R-RNO-5576894\"}, {\"from\": \"R-RNO-5576894\", \"title\": \"R-RNO-5576894 is connected to R-HSA-5576894\", \"to\": \"R-HSA-5576894\"}, {\"from\": \"R-RNO-5576894\", \"title\": \"R-RNO-5576894 is connected to R-SSC-5576894\", \"to\": \"R-SSC-5576894\"}, {\"from\": \"R-RNO-5578775\", \"title\": \"R-RNO-5578775 is connected to R-RNO-5578775\", \"to\": \"R-RNO-5578775\"}, {\"from\": \"R-RNO-5578775\", \"title\": \"R-RNO-5578775 is connected to R-HSA-5578775\", \"to\": \"R-HSA-5578775\"}, {\"from\": \"R-RNO-5578775\", \"title\": \"R-RNO-5578775 is connected to R-SSC-5578775\", \"to\": \"R-SSC-5578775\"}, {\"from\": \"R-RNO-5578768\", \"title\": \"R-RNO-5578768 is connected to R-RNO-5578768\", \"to\": \"R-RNO-5578768\"}, {\"from\": \"R-RNO-5578768\", \"title\": \"R-RNO-5578768 is connected to R-SSC-5578768\", \"to\": \"R-SSC-5578768\"}, {\"from\": \"R-MMU-5576890\", \"title\": \"R-MMU-5576890 is connected to R-MMU-5576890\", \"to\": \"R-MMU-5576890\"}, {\"from\": \"R-MMU-5576890\", \"title\": \"R-MMU-5576890 is connected to R-HSA-5576890\", \"to\": \"R-HSA-5576890\"}, {\"from\": \"R-MMU-5576890\", \"title\": \"R-MMU-5576890 is connected to R-RNO-5576890\", \"to\": \"R-RNO-5576890\"}, {\"from\": \"R-RNO-5576886\", \"title\": \"R-RNO-5576886 is connected to R-RNO-5576886\", \"to\": \"R-RNO-5576886\"}, {\"from\": \"R-RNO-5576886\", \"title\": \"R-RNO-5576886 is connected to R-HSA-5576886\", \"to\": \"R-HSA-5576886\"}, {\"from\": \"R-RNO-5576886\", \"title\": \"R-RNO-5576886 is connected to R-SSC-5576886\", \"to\": \"R-SSC-5576886\"}, {\"from\": \"R-RNO-5576886\", \"title\": \"R-RNO-5576886 is connected to R-MMU-5576886\", \"to\": \"R-MMU-5576886\"}, {\"from\": \"R-HSA-5578775\", \"title\": \"R-HSA-5578775 is connected to R-HSA-5578775\", \"to\": \"R-HSA-5578775\"}, {\"from\": \"R-HSA-5578775\", \"title\": \"R-HSA-5578775 is connected to R-SSC-5578775\", \"to\": \"R-SSC-5578775\"}, {\"from\": \"R-HSA-5576894\", \"title\": \"R-HSA-5576894 is connected to R-HSA-5576894\", \"to\": \"R-HSA-5576894\"}, {\"from\": \"R-HSA-5576894\", \"title\": \"R-HSA-5576894 is connected to R-SSC-5576894\", \"to\": \"R-SSC-5576894\"}, {\"from\": \"R-HSA-5576886\", \"title\": \"R-HSA-5576886 is connected to R-HSA-5576886\", \"to\": \"R-HSA-5576886\"}, {\"from\": \"R-HSA-5576886\", \"title\": \"R-HSA-5576886 is connected to R-SSC-5576886\", \"to\": \"R-SSC-5576886\"}, {\"from\": \"R-HSA-5576886\", \"title\": \"R-HSA-5576886 is connected to R-MMU-5576886\", \"to\": \"R-MMU-5576886\"}, {\"from\": \"R-SSC-5576894\", \"title\": \"R-SSC-5576894 is connected to R-SSC-5576894\", \"to\": \"R-SSC-5576894\"}, {\"from\": \"R-SSC-5578768\", \"title\": \"R-SSC-5578768 is connected to R-SSC-5578768\", \"to\": \"R-SSC-5578768\"}, {\"from\": \"R-MMU-5576893\", \"title\": \"R-MMU-5576893 is connected to R-MMU-5576893\", \"to\": \"R-MMU-5576893\"}, {\"from\": \"R-MMU-5576893\", \"title\": \"R-MMU-5576893 is connected to R-RNO-5576893\", \"to\": \"R-RNO-5576893\"}, {\"from\": \"R-MMU-5576893\", \"title\": \"R-MMU-5576893 is connected to R-HSA-5576893\", \"to\": \"R-HSA-5576893\"}, {\"from\": \"R-HSA-5576890\", \"title\": \"R-HSA-5576890 is connected to R-HSA-5576890\", \"to\": \"R-HSA-5576890\"}, {\"from\": \"R-HSA-5576890\", \"title\": \"R-HSA-5576890 is connected to R-RNO-5576890\", \"to\": \"R-RNO-5576890\"}, {\"from\": \"R-MMU-5576892\", \"title\": \"R-MMU-5576892 is connected to R-MMU-5576892\", \"to\": \"R-MMU-5576892\"}, {\"from\": \"R-MMU-5576892\", \"title\": \"R-MMU-5576892 is connected to R-RNO-5576892\", \"to\": \"R-RNO-5576892\"}, {\"from\": \"R-MMU-5576892\", \"title\": \"R-MMU-5576892 is connected to R-HSA-5576892\", \"to\": \"R-HSA-5576892\"}, {\"from\": \"R-RNO-5576890\", \"title\": \"R-RNO-5576890 is connected to R-RNO-5576890\", \"to\": \"R-RNO-5576890\"}, {\"from\": \"R-SSC-5576886\", \"title\": \"R-SSC-5576886 is connected to R-SSC-5576886\", \"to\": \"R-SSC-5576886\"}, {\"from\": \"R-SSC-5576886\", \"title\": \"R-SSC-5576886 is connected to R-MMU-5576886\", \"to\": \"R-MMU-5576886\"}, {\"from\": \"R-MMU-5576886\", \"title\": \"R-MMU-5576886 is connected to R-MMU-5576886\", \"to\": \"R-MMU-5576886\"}, {\"from\": \"R-RNO-5576892\", \"title\": \"R-RNO-5576892 is connected to R-RNO-5576892\", \"to\": \"R-RNO-5576892\"}, {\"from\": \"R-RNO-5576892\", \"title\": \"R-RNO-5576892 is connected to R-HSA-5576892\", \"to\": \"R-HSA-5576892\"}, {\"from\": \"R-HSA-5576892\", \"title\": \"R-HSA-5576892 is connected to R-HSA-5576892\", \"to\": \"R-HSA-5576892\"}, {\"from\": \"R-RNO-5576893\", \"title\": \"R-RNO-5576893 is connected to R-RNO-5576893\", \"to\": \"R-RNO-5576893\"}, {\"from\": \"R-RNO-5576893\", \"title\": \"R-RNO-5576893 is connected to R-HSA-5576893\", \"to\": \"R-HSA-5576893\"}, {\"from\": \"R-SSC-5578775\", \"title\": \"R-SSC-5578775 is connected to R-SSC-5578775\", \"to\": \"R-SSC-5578775\"}, {\"from\": \"R-HSA-5576893\", \"title\": \"R-HSA-5576893 is connected to R-HSA-5576893\", \"to\": \"R-HSA-5576893\"}]);\n",
              "\n",
              "        // adding nodes and edges to the graph\n",
              "        data = {nodes: nodes, edges: edges};\n",
              "\n",
              "        var options = {\n",
              "    \"configure\": {\n",
              "        \"enabled\": false\n",
              "    },\n",
              "    \"edges\": {\n",
              "        \"color\": {\n",
              "            \"inherit\": true\n",
              "        },\n",
              "        \"smooth\": {\n",
              "            \"enabled\": false,\n",
              "            \"type\": \"continuous\"\n",
              "        }\n",
              "    },\n",
              "    \"interaction\": {\n",
              "        \"dragNodes\": true,\n",
              "        \"hideEdgesOnDrag\": false,\n",
              "        \"hideNodesOnDrag\": false\n",
              "    },\n",
              "    \"physics\": {\n",
              "        \"enabled\": true,\n",
              "        \"stabilization\": {\n",
              "            \"enabled\": true,\n",
              "            \"fit\": true,\n",
              "            \"iterations\": 1000,\n",
              "            \"onlyDynamicEdges\": false,\n",
              "            \"updateInterval\": 50\n",
              "        }\n",
              "    }\n",
              "};\n",
              "        \n",
              "        \n",
              "\n",
              "        \n",
              "\n",
              "        network = new vis.Network(container, data, options);\n",
              "\t \n",
              "        \n",
              "\n",
              "\n",
              "        \n",
              "        network.on(\"stabilizationProgress\", function(params) {\n",
              "      \t\tdocument.getElementById('loadingBar').removeAttribute(\"style\");\n",
              "\t        var maxWidth = 496;\n",
              "\t        var minWidth = 20;\n",
              "\t        var widthFactor = params.iterations/params.total;\n",
              "\t        var width = Math.max(minWidth,maxWidth * widthFactor);\n",
              "\n",
              "\t        document.getElementById('bar').style.width = width + 'px';\n",
              "\t        document.getElementById('text').innerHTML = Math.round(widthFactor*100) + '%';\n",
              "\t    });\n",
              "\t    network.once(\"stabilizationIterationsDone\", function() {\n",
              "\t        document.getElementById('text').innerHTML = '100%';\n",
              "\t        document.getElementById('bar').style.width = '496px';\n",
              "\t        document.getElementById('loadingBar').style.opacity = 0;\n",
              "\t        // really clean the dom element\n",
              "\t        setTimeout(function () {document.getElementById('loadingBar').style.display = 'none';}, 500);\n",
              "\t    });\n",
              "        \n",
              "\n",
              "        return network;\n",
              "\n",
              "    }\n",
              "\n",
              "    drawGraph();\n",
              "\n",
              "</script>\n",
              "</body>\n",
              "</html>"
            ],
            "text/plain": [
              "<IPython.core.display.HTML object>"
            ]
          },
          "metadata": {
            "tags": []
          }
        }
      ]
    },
    {
      "cell_type": "code",
      "metadata": {
        "colab": {
          "base_uri": "https://localhost:8080/",
          "height": 35
        },
        "id": "cCp_YTy1M06j",
        "outputId": "0a65ec92-9596-41f1-bcf2-89fb361d3067"
      },
      "source": [
        "cardiac_table['Protein ID'].values[19]"
      ],
      "execution_count": null,
      "outputs": [
        {
          "output_type": "execute_result",
          "data": {
            "application/vnd.google.colaboratory.intrinsic+json": {
              "type": "string"
            },
            "text/plain": [
              "'P70170'"
            ]
          },
          "metadata": {
            "tags": []
          },
          "execution_count": 42
        }
      ]
    },
    {
      "cell_type": "code",
      "metadata": {
        "id": "zoe_vtSiUx05"
      },
      "source": [
        ""
      ],
      "execution_count": null,
      "outputs": []
    }
  ]
}